{
 "cells": [
  {
   "cell_type": "markdown",
   "id": "80fe943e",
   "metadata": {
    "id": "80fe943e"
   },
   "source": [
    "# Imports"
   ]
  },
  {
   "cell_type": "code",
   "execution_count": null,
   "id": "10eecac6",
   "metadata": {
    "id": "10eecac6"
   },
   "outputs": [],
   "source": [
    "import os\n",
    "import numpy as np\n",
    "import tensorflow as tf\n",
    "import itertools\n",
    "\n",
    "import keras\n",
    "from keras.datasets import cifar10\n",
    "from keras.models import Sequential\n",
    "from keras.layers import Dense, Activation, Dropout\n",
    "\n",
    "from IPython.display import display\n",
    "from tensorflow.keras.utils import img_to_array\n",
    "from tensorflow.keras.utils import array_to_img\n",
    "\n",
    "from time import strftime\n",
    "from sklearn.metrics import confusion_matrix\n",
    "\n",
    "import matplotlib.pyplot as plt\n",
    "\n",
    "%matplotlib inline"
   ]
  },
  {
   "cell_type": "code",
   "execution_count": null,
   "id": "2e9f22d2",
   "metadata": {
    "id": "2e9f22d2"
   },
   "outputs": [],
   "source": [
    "from numpy.random import seed\n",
    "seed(888)\n",
    "tf.random.set_seed(404)"
   ]
  },
  {
   "cell_type": "markdown",
   "id": "f2e5b5dd",
   "metadata": {
    "id": "f2e5b5dd"
   },
   "source": [
    "# Constants"
   ]
  },
  {
   "cell_type": "code",
   "execution_count": null,
   "id": "530a0fcc",
   "metadata": {
    "id": "530a0fcc"
   },
   "outputs": [],
   "source": [
    "LABEL_NAMES = ['Plane', 'Car', 'Bird', 'Cat', 'Deer', 'Dog', 'Frog', 'Horse', 'Ship', 'Truck']\n",
    "\n",
    "IMAGE_WIDTH = 32\n",
    "IMAGE_HEIGHT = 32\n",
    "IMAGE_PIXELS = IMAGE_WIDTH * IMAGE_HEIGHT\n",
    "COLOR_CHANNELS = 3\n",
    "TOTAL_INPUTS = IMAGE_PIXELS * COLOR_CHANNELS\n",
    "\n",
    "VALIDATION_SIZE = 10000\n",
    "SMALL_TRAIN_SIZE = 1000"
   ]
  },
  {
   "cell_type": "markdown",
   "id": "0a2f8505",
   "metadata": {
    "id": "0a2f8505"
   },
   "source": [
    "# Get the Data"
   ]
  },
  {
   "cell_type": "code",
   "execution_count": null,
   "id": "2d6249d6",
   "metadata": {
    "colab": {
     "base_uri": "https://localhost:8080/"
    },
    "id": "2d6249d6",
    "outputId": "3bd41989-751d-47f4-ad0b-4a1e856a2096"
   },
   "outputs": [
    {
     "name": "stdout",
     "output_type": "stream",
     "text": [
      "Downloading data from https://www.cs.toronto.edu/~kriz/cifar-10-python.tar.gz\n",
      "170498071/170498071 [==============================] - 3s 0us/step\n"
     ]
    }
   ],
   "source": [
    "(x_train_all, y_train_all), (x_test, y_test) = cifar10.load_data()"
   ]
  },
  {
   "cell_type": "code",
   "execution_count": null,
   "id": "06d39c09",
   "metadata": {
    "colab": {
     "base_uri": "https://localhost:8080/"
    },
    "id": "06d39c09",
    "outputId": "ab994080-0d95-4641-fc59-92642c38e701"
   },
   "outputs": [
    {
     "data": {
      "text/plain": [
       "numpy.ndarray"
      ]
     },
     "execution_count": 6,
     "metadata": {},
     "output_type": "execute_result"
    }
   ],
   "source": [
    "type(x_train_all)"
   ]
  },
  {
   "cell_type": "markdown",
   "id": "abd91321",
   "metadata": {
    "id": "abd91321"
   },
   "source": [
    "# Explore the Data"
   ]
  },
  {
   "cell_type": "code",
   "execution_count": null,
   "id": "53b5120c",
   "metadata": {
    "colab": {
     "base_uri": "https://localhost:8080/"
    },
    "id": "53b5120c",
    "outputId": "a982a095-e083-4cf1-8d70-5909c3ca1780"
   },
   "outputs": [
    {
     "data": {
      "text/plain": [
       "array([[[ 59,  62,  63],\n",
       "        [ 43,  46,  45],\n",
       "        [ 50,  48,  43],\n",
       "        ...,\n",
       "        [158, 132, 108],\n",
       "        [152, 125, 102],\n",
       "        [148, 124, 103]],\n",
       "\n",
       "       [[ 16,  20,  20],\n",
       "        [  0,   0,   0],\n",
       "        [ 18,   8,   0],\n",
       "        ...,\n",
       "        [123,  88,  55],\n",
       "        [119,  83,  50],\n",
       "        [122,  87,  57]],\n",
       "\n",
       "       [[ 25,  24,  21],\n",
       "        [ 16,   7,   0],\n",
       "        [ 49,  27,   8],\n",
       "        ...,\n",
       "        [118,  84,  50],\n",
       "        [120,  84,  50],\n",
       "        [109,  73,  42]],\n",
       "\n",
       "       ...,\n",
       "\n",
       "       [[208, 170,  96],\n",
       "        [201, 153,  34],\n",
       "        [198, 161,  26],\n",
       "        ...,\n",
       "        [160, 133,  70],\n",
       "        [ 56,  31,   7],\n",
       "        [ 53,  34,  20]],\n",
       "\n",
       "       [[180, 139,  96],\n",
       "        [173, 123,  42],\n",
       "        [186, 144,  30],\n",
       "        ...,\n",
       "        [184, 148,  94],\n",
       "        [ 97,  62,  34],\n",
       "        [ 83,  53,  34]],\n",
       "\n",
       "       [[177, 144, 116],\n",
       "        [168, 129,  94],\n",
       "        [179, 142,  87],\n",
       "        ...,\n",
       "        [216, 184, 140],\n",
       "        [151, 118,  84],\n",
       "        [123,  92,  72]]], dtype=uint8)"
      ]
     },
     "execution_count": 7,
     "metadata": {},
     "output_type": "execute_result"
    }
   ],
   "source": [
    "x_train_all[0]"
   ]
  },
  {
   "cell_type": "code",
   "execution_count": null,
   "id": "67b27198",
   "metadata": {
    "colab": {
     "base_uri": "https://localhost:8080/",
     "height": 49
    },
    "id": "67b27198",
    "outputId": "26ef9db4-034c-4b8b-f437-1980045ce3a3"
   },
   "outputs": [
    {
     "data": {
      "image/png": "[encoded data removed]",
      "text/plain": [
       "<PIL.Image.Image image mode=RGB size=32x32 at 0x7F54B102C7C0>"
      ]
     },
     "metadata": {},
     "output_type": "display_data"
    }
   ],
   "source": [
    "#First way to show images\n",
    "pic = array_to_img(x_train_all[7])\n",
    "display(pic)"
   ]
  },
  {
   "cell_type": "code",
   "execution_count": null,
   "id": "91abae6c",
   "metadata": {
    "colab": {
     "base_uri": "https://localhost:8080/"
    },
    "id": "91abae6c",
    "outputId": "c3666093-6499-46bd-b8a2-6c86beaefbd5"
   },
   "outputs": [
    {
     "data": {
      "text/plain": [
       "(50000, 1)"
      ]
     },
     "execution_count": 9,
     "metadata": {},
     "output_type": "execute_result"
    }
   ],
   "source": [
    "y_train_all.shape"
   ]
  },
  {
   "cell_type": "code",
   "execution_count": null,
   "id": "c208b63f",
   "metadata": {
    "colab": {
     "base_uri": "https://localhost:8080/"
    },
    "id": "c208b63f",
    "outputId": "4ab3a133-5b63-449a-f45d-c5a28e44fa17"
   },
   "outputs": [
    {
     "data": {
      "text/plain": [
       "7"
      ]
     },
     "execution_count": 10,
     "metadata": {},
     "output_type": "execute_result"
    }
   ],
   "source": [
    "y_train_all[7][0]"
   ]
  },
  {
   "cell_type": "code",
   "execution_count": null,
   "id": "566c964c",
   "metadata": {
    "colab": {
     "base_uri": "https://localhost:8080/",
     "height": 35
    },
    "id": "566c964c",
    "outputId": "aca75d66-62e4-40a9-8e3f-b8a3752b8254"
   },
   "outputs": [
    {
     "data": {
      "application/vnd.google.colaboratory.intrinsic+json": {
       "type": "string"
      },
      "text/plain": [
       "'Horse'"
      ]
     },
     "execution_count": 11,
     "metadata": {},
     "output_type": "execute_result"
    }
   ],
   "source": [
    "LABEL_NAMES[y_train_all[7][0]]"
   ]
  },
  {
   "cell_type": "code",
   "execution_count": null,
   "id": "4d832abb",
   "metadata": {
    "colab": {
     "base_uri": "https://localhost:8080/",
     "height": 280
    },
    "id": "4d832abb",
    "outputId": "3ea9cab2-531d-451a-b815-65240ecf9ba5"
   },
   "outputs": [
    {
     "data": {
      "image/png": "[encoded data removed]",
      "text/plain": [
       "<Figure size 432x288 with 1 Axes>"
      ]
     },
     "metadata": {
      "needs_background": "light"
     },
     "output_type": "display_data"
    }
   ],
   "source": [
    "#Second way to show images\n",
    "plt.imshow(x_train_all[4])\n",
    "plt.xlabel(LABEL_NAMES[y_train_all[4][0]])\n",
    "plt.show()"
   ]
  },
  {
   "cell_type": "markdown",
   "id": "817e8135",
   "metadata": {
    "id": "817e8135"
   },
   "source": [
    "Writing a for loop to display the first 10 images from the ```x_train_all``` array in a row. Show the name of the label below the picture. Remove the ugly tick marks."
   ]
  },
  {
   "cell_type": "code",
   "execution_count": null,
   "id": "2adae281",
   "metadata": {
    "colab": {
     "base_uri": "https://localhost:8080/",
     "height": 116
    },
    "id": "2adae281",
    "outputId": "5da80ad6-0f49-4ec7-f725-7544ead7f120"
   },
   "outputs": [
    {
     "data": {
      "image/png": "[encoded data removed]",
      "text/plain": [
       "<Figure size 1080x360 with 10 Axes>"
      ]
     },
     "metadata": {},
     "output_type": "display_data"
    }
   ],
   "source": [
    "plt.figure(figsize = (15,5))\n",
    "\n",
    "for i in range(10):\n",
    "    plt.subplot(1, 10, i+1)\n",
    "    plt.yticks([])\n",
    "    plt.xticks([])\n",
    "    plt.imshow(x_train_all[i])\n",
    "    plt.xlabel(LABEL_NAMES[y_train_all[i][0]])\n",
    "    "
   ]
  },
  {
   "cell_type": "code",
   "execution_count": null,
   "id": "7c02f694",
   "metadata": {
    "colab": {
     "base_uri": "https://localhost:8080/"
    },
    "id": "7c02f694",
    "outputId": "0548d056-ba84-4da2-fc97-20fdd039dafe"
   },
   "outputs": [
    {
     "data": {
      "text/plain": [
       "(32, 32, 3)"
      ]
     },
     "execution_count": 14,
     "metadata": {},
     "output_type": "execute_result"
    }
   ],
   "source": [
    "x_train_all[0].shape"
   ]
  },
  {
   "cell_type": "code",
   "execution_count": null,
   "id": "20a12390",
   "metadata": {
    "colab": {
     "base_uri": "https://localhost:8080/"
    },
    "id": "20a12390",
    "outputId": "0ad7fdcb-812e-459a-f495-f7468b851859"
   },
   "outputs": [
    {
     "name": "stdout",
     "output_type": "stream",
     "text": [
      "images = 50000 \t| width = 32 \t| height = 32 \t| channels = 3\n"
     ]
    }
   ],
   "source": [
    "nr_images, x, y, c = x_train_all.shape\n",
    "print(f'images = {nr_images} \\t| width = {x} \\t| height = {y} \\t| channels = {c}')"
   ]
  },
  {
   "cell_type": "code",
   "execution_count": null,
   "id": "bfa64b80",
   "metadata": {
    "colab": {
     "base_uri": "https://localhost:8080/"
    },
    "id": "bfa64b80",
    "outputId": "eb2427f9-4ed0-4eb4-cf2e-3453eeea41af"
   },
   "outputs": [
    {
     "data": {
      "text/plain": [
       "(10000, 32, 32, 3)"
      ]
     },
     "execution_count": 16,
     "metadata": {},
     "output_type": "execute_result"
    }
   ],
   "source": [
    "x_test.shape"
   ]
  },
  {
   "cell_type": "markdown",
   "id": "11f743a6",
   "metadata": {
    "id": "11f743a6"
   },
   "source": [
    "# Preprocess Data"
   ]
  },
  {
   "cell_type": "code",
   "execution_count": null,
   "id": "e1ce5cc1",
   "metadata": {
    "id": "e1ce5cc1"
   },
   "outputs": [],
   "source": [
    "#255 va a ser el valor mas alto de mis arrays (por los valores de RGB)\n",
    "#Divido por 255 para que los valores esten entonces entre 0 y 1, que va a facilitar el calculo de loss y de weights\n",
    "#Ademas de esta manera cambiamos el tipo de dato a float\n",
    "\n",
    "x_train_all, x_test = x_train_all / 255.0, x_test /255.0"
   ]
  },
  {
   "cell_type": "code",
   "execution_count": null,
   "id": "ced81241",
   "metadata": {
    "colab": {
     "base_uri": "https://localhost:8080/"
    },
    "id": "ced81241",
    "outputId": "3366ea22-8560-45fe-b975-f8508db539c4"
   },
   "outputs": [
    {
     "data": {
      "text/plain": [
       "numpy.float64"
      ]
     },
     "execution_count": 18,
     "metadata": {},
     "output_type": "execute_result"
    }
   ],
   "source": [
    "type(x_train_all[0][0][0][0])"
   ]
  },
  {
   "cell_type": "code",
   "execution_count": null,
   "id": "af722f91",
   "metadata": {
    "id": "af722f91"
   },
   "outputs": [],
   "source": [
    "#Aplanar los datos, para que no tenga 4 dimensiones, sino meter todo en 1 sola dimension.\n",
    "#Para eso multiplico los valores de cada columna que quiero reducir\n",
    "#Ver seccion CONSTANTS\n",
    "\n",
    "x_train_all = x_train_all.reshape(x_train_all.shape[0],TOTAL_INPUTS)"
   ]
  },
  {
   "cell_type": "code",
   "execution_count": null,
   "id": "cabad699",
   "metadata": {
    "colab": {
     "base_uri": "https://localhost:8080/"
    },
    "id": "cabad699",
    "outputId": "b03d9fe4-00fc-4b05-d348-901327c093ef"
   },
   "outputs": [
    {
     "data": {
      "text/plain": [
       "(50000, 3072)"
      ]
     },
     "execution_count": 20,
     "metadata": {},
     "output_type": "execute_result"
    }
   ],
   "source": [
    "x_train_all.shape"
   ]
  },
  {
   "cell_type": "code",
   "execution_count": null,
   "id": "e9ef857a",
   "metadata": {
    "colab": {
     "base_uri": "https://localhost:8080/"
    },
    "id": "e9ef857a",
    "outputId": "83e32fda-afa2-4ad6-81bf-28df4824a4d0"
   },
   "outputs": [
    {
     "name": "stdout",
     "output_type": "stream",
     "text": [
      "Shape of x_test is (10000, 3072)\n"
     ]
    }
   ],
   "source": [
    "#Ahora hago lo mismo pero para el test\n",
    "\n",
    "x_test = x_test.reshape(len(x_test), TOTAL_INPUTS)\n",
    "print(f'Shape of x_test is {x_test.shape}')"
   ]
  },
  {
   "cell_type": "markdown",
   "id": "73d54c3a",
   "metadata": {
    "id": "73d54c3a"
   },
   "source": [
    "# Create Validation Dataset\n",
    "\n",
    "#### Extracting a portion of Train dataset for Validation.\n",
    "\n",
    "#### Validation will allow me to select the best model, calculating its parameters and tuning it if it's needed. This way, I'll be choosing the best model without using my Test data yet. The latter will be used in my final evaluation."
   ]
  },
  {
   "cell_type": "code",
   "execution_count": null,
   "id": "e06d5769",
   "metadata": {
    "colab": {
     "base_uri": "https://localhost:8080/"
    },
    "id": "e06d5769",
    "outputId": "83bb4732-e25f-4eaa-8911-68ff38359726"
   },
   "outputs": [
    {
     "data": {
      "text/plain": [
       "(10000, 3072)"
      ]
     },
     "execution_count": 22,
     "metadata": {},
     "output_type": "execute_result"
    }
   ],
   "source": [
    "x_val = x_train_all[:VALIDATION_SIZE]\n",
    "y_val = y_train_all[:VALIDATION_SIZE]\n",
    "x_val.shape"
   ]
  },
  {
   "cell_type": "markdown",
   "id": "5881c238",
   "metadata": {
    "id": "5881c238"
   },
   "source": [
    "Creating two arrays ```x_train``` and ```y_train``` that have the shape (40000, 3072) and (40000, 1) respectively. They contain the last 40000 values from ```x_train_all``` and ```y_train_all``` respectively."
   ]
  },
  {
   "cell_type": "code",
   "execution_count": null,
   "id": "f2b39098",
   "metadata": {
    "colab": {
     "base_uri": "https://localhost:8080/"
    },
    "id": "f2b39098",
    "outputId": "5d1ec963-d6aa-4cba-c7e2-5335e0e380bf"
   },
   "outputs": [
    {
     "data": {
      "text/plain": [
       "(40000, 3072)"
      ]
     },
     "execution_count": 23,
     "metadata": {},
     "output_type": "execute_result"
    }
   ],
   "source": [
    "x_train = x_train_all[VALIDATION_SIZE:] #Selecciono los ultimos 40000\n",
    "y_train = y_train_all[VALIDATION_SIZE:]\n",
    "x_train.shape"
   ]
  },
  {
   "cell_type": "markdown",
   "id": "fdff9481",
   "metadata": {
    "id": "fdff9481"
   },
   "source": [
    "## Create a small dataset (for illustration)"
   ]
  },
  {
   "cell_type": "code",
   "execution_count": null,
   "id": "2cfb4d16",
   "metadata": {
    "id": "2cfb4d16"
   },
   "outputs": [],
   "source": [
    "x_train_xs = x_train[:SMALL_TRAIN_SIZE]\n",
    "y_train_xs = y_train[:SMALL_TRAIN_SIZE]"
   ]
  },
  {
   "cell_type": "markdown",
   "id": "7fc212c4",
   "metadata": {
    "id": "7fc212c4"
   },
   "source": [
    "# Define the Neural Network using Keras"
   ]
  },
  {
   "cell_type": "code",
   "execution_count": null,
   "id": "180f1aeb",
   "metadata": {
    "id": "180f1aeb"
   },
   "outputs": [],
   "source": [
    "#Model Design (inner layers)\n",
    "model_1 = Sequential([\n",
    "    Dense(units = 128, input_dim = TOTAL_INPUTS, activation = 'relu', name = 'm1_hidden1'),\n",
    "    Dense(units = 64, activation = 'relu', name = 'm1_hidden2'),\n",
    "    Dense(units = 16, activation = 'relu', name = 'm1_hidden3'),\n",
    "    Dense(units = 10, activation = 'softmax', name = 'm1_output')\n",
    "])\n",
    "\n",
    "#Model Compiling (Optimizando el modelo e indicando que calculos debe realizar en cada layer)\n",
    "model_1.compile(optimizer = 'adam', \n",
    "                loss = 'sparse_categorical_crossentropy', \n",
    "                metrics = ['accuracy'])"
   ]
  },
  {
   "cell_type": "code",
   "execution_count": null,
   "id": "LQik2p0glXlP",
   "metadata": {
    "id": "LQik2p0glXlP"
   },
   "outputs": [],
   "source": [
    "model_2 = Sequential()\n",
    "model_2.add(Dropout(0.2, seed = 42, input_shape = (TOTAL_INPUTS,)))\n",
    "model_2.add(Dense(128, activation = 'relu', name = 'm2_hidden1'))\n",
    "model_2.add(Dense(64, activation = 'relu', name = 'm2_hidden2'))\n",
    "model_2.add(Dense(16, activation = 'relu', name = 'm2_hidden3'))\n",
    "model_2.add(Dense(10, activation = 'softmax', name = 'm2_output'))\n",
    "\n",
    "model_2.compile(optimizer = 'adam', \n",
    "                loss = 'sparse_categorical_crossentropy', \n",
    "                metrics = ['accuracy'])"
   ]
  },
  {
   "cell_type": "markdown",
   "id": "-RuDEtd5nxnL",
   "metadata": {
    "id": "-RuDEtd5nxnL"
   },
   "source": [
    "Creating a third model, model_3 that has two droput layers. The second output layer should be added after the first hidden layer and have a dropout rate of 25%"
   ]
  },
  {
   "cell_type": "code",
   "execution_count": null,
   "id": "gzFZKBc5n_5K",
   "metadata": {
    "id": "gzFZKBc5n_5K"
   },
   "outputs": [],
   "source": [
    "model_3 = Sequential()\n",
    "model_3.add(Dropout(0.2, seed = 42, input_shape = (TOTAL_INPUTS,))) #Tecnica para evitar overfitting\n",
    "model_3.add(Dense(128, activation = 'relu', name = 'm2_hidden1'))\n",
    "model_3.add(Dropout(0.25, seed = 42))\n",
    "model_3.add(Dense(64, activation = 'relu', name = 'm2_hidden2'))\n",
    "model_3.add(Dense(16, activation = 'relu', name = 'm2_hidden3'))\n",
    "model_3.add(Dense(10, activation = 'softmax', name = 'm2_output'))\n",
    "\n",
    "model_3.compile(optimizer = 'adam', \n",
    "                loss = 'sparse_categorical_crossentropy', \n",
    "                metrics = ['accuracy'])"
   ]
  },
  {
   "cell_type": "markdown",
   "id": "L-TD1TxwJcdR",
   "metadata": {
    "id": "L-TD1TxwJcdR"
   },
   "source": [
    "### Categorical Entropy Loss\n",
    "#### Penalizes the predictions that the model considers trustworthy but are incorrect."
   ]
  },
  {
   "cell_type": "code",
   "execution_count": null,
   "id": "1475590e",
   "metadata": {
    "colab": {
     "base_uri": "https://localhost:8080/"
    },
    "id": "1475590e",
    "outputId": "4ca3f117-cd9b-4819-94ba-1e98c5794bd4"
   },
   "outputs": [
    {
     "data": {
      "text/plain": [
       "keras.engine.sequential.Sequential"
      ]
     },
     "execution_count": 26,
     "metadata": {},
     "output_type": "execute_result"
    }
   ],
   "source": [
    "type(model_1)"
   ]
  },
  {
   "cell_type": "code",
   "execution_count": null,
   "id": "IJbKDqj3Likz",
   "metadata": {
    "colab": {
     "base_uri": "https://localhost:8080/"
    },
    "id": "IJbKDqj3Likz",
    "outputId": "578c7cbf-41db-4b59-fff4-4e31ea0c649c"
   },
   "outputs": [
    {
     "name": "stdout",
     "output_type": "stream",
     "text": [
      "Model: \"sequential\"\n",
      "_________________________________________________________________\n",
      " Layer (type)                Output Shape              Param #   \n",
      "=================================================================\n",
      " m1_hidden1 (Dense)          (None, 128)               393344    \n",
      "                                                                 \n",
      " m1_hidden2 (Dense)          (None, 64)                8256      \n",
      "                                                                 \n",
      " m1_hidden3 (Dense)          (None, 16)                1040      \n",
      "                                                                 \n",
      " m1_output (Dense)           (None, 10)                170       \n",
      "                                                                 \n",
      "=================================================================\n",
      "Total params: 402,810\n",
      "Trainable params: 402,810\n",
      "Non-trainable params: 0\n",
      "_________________________________________________________________\n"
     ]
    }
   ],
   "source": [
    "model_1.summary()"
   ]
  },
  {
   "cell_type": "markdown",
   "id": "auo19jBMTVtL",
   "metadata": {
    "id": "auo19jBMTVtL"
   },
   "source": [
    "# **Fit the Model**"
   ]
  },
  {
   "cell_type": "code",
   "execution_count": null,
   "id": "U9za7BerVZ02",
   "metadata": {
    "id": "U9za7BerVZ02"
   },
   "outputs": [],
   "source": [
    "samples_per_batch = 1000"
   ]
  },
  {
   "cell_type": "code",
   "execution_count": null,
   "id": "15215923",
   "metadata": {
    "id": "15215923"
   },
   "outputs": [],
   "source": [
    "# %%time\n",
    "# nr_epochs = 150\n",
    "# model_1.fit(x = x_train_xs, y = y_train_xs, batch_size = samples_per_batch, epochs = nr_epochs,\n",
    "#             verbose = 0)"
   ]
  },
  {
   "cell_type": "code",
   "execution_count": null,
   "id": "DQwFLb0-XWVo",
   "metadata": {
    "id": "DQwFLb0-XWVo"
   },
   "outputs": [],
   "source": [
    "#Lo mismo pero agregando tambien la validation data\n",
    "\n",
    "# %%time\n",
    "# nr_epochs = 150\n",
    "# a = model_1.fit(x = x_train_xs, y = y_train_xs, batch_size = samples_per_batch, epochs = nr_epochs,\n",
    "#             verbose = 1, validation_data = (x_val, y_val))"
   ]
  },
  {
   "cell_type": "code",
   "execution_count": null,
   "id": "6ac97ec1",
   "metadata": {
    "id": "6ac97ec1"
   },
   "outputs": [],
   "source": [
    "#a.history"
   ]
  },
  {
   "cell_type": "code",
   "execution_count": null,
   "id": "baea46e6",
   "metadata": {
    "id": "baea46e6"
   },
   "outputs": [],
   "source": [
    "#%%time\n",
    "#nr_epochs = 150\n",
    "#model_2.fit(x = x_train_xs, y = y_train_xs, batch_size = samples_per_batch, epochs = nr_epochs,\n",
    "#            verbose = 1, validation_data = (x_val, y_val))"
   ]
  },
  {
   "cell_type": "code",
   "execution_count": null,
   "id": "25ABz8bXiidD",
   "metadata": {
    "colab": {
     "base_uri": "https://localhost:8080/"
    },
    "id": "25ABz8bXiidD",
    "outputId": "5b431e21-46df-4f50-8779-b3bd5fa0d418"
   },
   "outputs": [
    {
     "data": {
      "text/plain": [
       "150"
      ]
     },
     "execution_count": 42,
     "metadata": {},
     "output_type": "execute_result"
    }
   ],
   "source": [
    "len(a.history[\"val_accuracy\"])"
   ]
  },
  {
   "cell_type": "code",
   "execution_count": null,
   "id": "QGF--BhKiiV4",
   "metadata": {
    "id": "QGF--BhKiiV4"
   },
   "outputs": [],
   "source": []
  },
  {
   "cell_type": "code",
   "execution_count": null,
   "id": "j2h10ZaepF3f",
   "metadata": {
    "colab": {
     "base_uri": "https://localhost:8080/"
    },
    "id": "j2h10ZaepF3f",
    "outputId": "87d80185-7071-48b4-862e-a4bc36193055"
   },
   "outputs": [
    {
     "name": "stdout",
     "output_type": "stream",
     "text": [
      "Epoch 1/100\n",
      "40/40 [==============================] - 5s 100ms/step - loss: 2.2853 - accuracy: 0.1285 - val_loss: 2.2391 - val_accuracy: 0.1561\n",
      "Epoch 2/100\n",
      "40/40 [==============================] - 2s 54ms/step - loss: 2.2044 - accuracy: 0.1995 - val_loss: 2.1569 - val_accuracy: 0.2271\n",
      "Epoch 3/100\n",
      "40/40 [==============================] - 2s 62ms/step - loss: 2.1094 - accuracy: 0.2523 - val_loss: 2.0599 - val_accuracy: 0.2530\n",
      "Epoch 4/100\n",
      "40/40 [==============================] - 3s 63ms/step - loss: 2.0097 - accuracy: 0.2756 - val_loss: 1.9503 - val_accuracy: 0.2965\n",
      "Epoch 5/100\n",
      "40/40 [==============================] - 2s 48ms/step - loss: 1.8776 - accuracy: 0.3225 - val_loss: 1.8217 - val_accuracy: 0.3525\n",
      "Epoch 6/100\n",
      "40/40 [==============================] - 2s 48ms/step - loss: 1.7944 - accuracy: 0.3556 - val_loss: 1.7441 - val_accuracy: 0.3746\n",
      "Epoch 7/100\n",
      "40/40 [==============================] - 2s 47ms/step - loss: 1.7385 - accuracy: 0.3790 - val_loss: 1.7248 - val_accuracy: 0.3772\n",
      "Epoch 8/100\n",
      "40/40 [==============================] - 2s 47ms/step - loss: 1.7092 - accuracy: 0.3893 - val_loss: 1.6909 - val_accuracy: 0.3884\n",
      "Epoch 9/100\n",
      "40/40 [==============================] - 2s 58ms/step - loss: 1.6712 - accuracy: 0.4033 - val_loss: 1.6695 - val_accuracy: 0.3947\n",
      "Epoch 10/100\n",
      "40/40 [==============================] - 3s 66ms/step - loss: 1.6529 - accuracy: 0.4102 - val_loss: 1.6513 - val_accuracy: 0.4010\n",
      "Epoch 11/100\n",
      "40/40 [==============================] - 2s 47ms/step - loss: 1.6214 - accuracy: 0.4185 - val_loss: 1.6156 - val_accuracy: 0.4221\n",
      "Epoch 12/100\n",
      "40/40 [==============================] - 2s 47ms/step - loss: 1.5969 - accuracy: 0.4304 - val_loss: 1.5914 - val_accuracy: 0.4263\n",
      "Epoch 13/100\n",
      "40/40 [==============================] - 2s 62ms/step - loss: 1.5744 - accuracy: 0.4371 - val_loss: 1.5809 - val_accuracy: 0.4281\n",
      "Epoch 14/100\n",
      "40/40 [==============================] - 2s 62ms/step - loss: 1.5682 - accuracy: 0.4401 - val_loss: 1.5678 - val_accuracy: 0.4362\n",
      "Epoch 15/100\n",
      "40/40 [==============================] - 4s 90ms/step - loss: 1.5562 - accuracy: 0.4435 - val_loss: 1.5676 - val_accuracy: 0.4329\n",
      "Epoch 16/100\n",
      "40/40 [==============================] - 2s 51ms/step - loss: 1.5301 - accuracy: 0.4526 - val_loss: 1.5532 - val_accuracy: 0.4351\n",
      "Epoch 17/100\n",
      "40/40 [==============================] - 2s 47ms/step - loss: 1.5216 - accuracy: 0.4548 - val_loss: 1.5560 - val_accuracy: 0.4326\n",
      "Epoch 18/100\n",
      "40/40 [==============================] - 2s 47ms/step - loss: 1.5087 - accuracy: 0.4609 - val_loss: 1.5472 - val_accuracy: 0.4467\n",
      "Epoch 19/100\n",
      "40/40 [==============================] - 2s 51ms/step - loss: 1.5054 - accuracy: 0.4633 - val_loss: 1.5316 - val_accuracy: 0.4456\n",
      "Epoch 20/100\n",
      "40/40 [==============================] - 2s 47ms/step - loss: 1.4873 - accuracy: 0.4715 - val_loss: 1.5327 - val_accuracy: 0.4508\n",
      "Epoch 21/100\n",
      "40/40 [==============================] - 3s 76ms/step - loss: 1.4851 - accuracy: 0.4683 - val_loss: 1.5114 - val_accuracy: 0.4566\n",
      "Epoch 22/100\n",
      "40/40 [==============================] - 2s 53ms/step - loss: 1.4813 - accuracy: 0.4709 - val_loss: 1.5505 - val_accuracy: 0.4373\n",
      "Epoch 23/100\n",
      "40/40 [==============================] - 2s 47ms/step - loss: 1.4625 - accuracy: 0.4802 - val_loss: 1.5085 - val_accuracy: 0.4586\n",
      "Epoch 24/100\n",
      "40/40 [==============================] - 2s 47ms/step - loss: 1.4480 - accuracy: 0.4834 - val_loss: 1.4947 - val_accuracy: 0.4620\n",
      "Epoch 25/100\n",
      "40/40 [==============================] - 2s 47ms/step - loss: 1.4420 - accuracy: 0.4848 - val_loss: 1.5195 - val_accuracy: 0.4544\n",
      "Epoch 26/100\n",
      "40/40 [==============================] - 2s 46ms/step - loss: 1.4392 - accuracy: 0.4875 - val_loss: 1.4988 - val_accuracy: 0.4634\n",
      "Epoch 27/100\n",
      "40/40 [==============================] - 3s 81ms/step - loss: 1.4288 - accuracy: 0.4890 - val_loss: 1.4857 - val_accuracy: 0.4663\n",
      "Epoch 28/100\n",
      "40/40 [==============================] - 2s 46ms/step - loss: 1.4217 - accuracy: 0.4925 - val_loss: 1.4838 - val_accuracy: 0.4702\n",
      "Epoch 29/100\n",
      "40/40 [==============================] - 2s 47ms/step - loss: 1.4128 - accuracy: 0.4947 - val_loss: 1.4919 - val_accuracy: 0.4653\n",
      "Epoch 30/100\n",
      "40/40 [==============================] - 2s 47ms/step - loss: 1.4061 - accuracy: 0.4985 - val_loss: 1.4920 - val_accuracy: 0.4675\n",
      "Epoch 31/100\n",
      "40/40 [==============================] - 2s 47ms/step - loss: 1.4050 - accuracy: 0.4978 - val_loss: 1.4844 - val_accuracy: 0.4683\n",
      "Epoch 32/100\n",
      "40/40 [==============================] - 2s 51ms/step - loss: 1.3996 - accuracy: 0.5016 - val_loss: 1.4876 - val_accuracy: 0.4661\n",
      "Epoch 33/100\n",
      "40/40 [==============================] - 3s 78ms/step - loss: 1.3950 - accuracy: 0.5024 - val_loss: 1.4734 - val_accuracy: 0.4746\n",
      "Epoch 34/100\n",
      "40/40 [==============================] - 2s 52ms/step - loss: 1.3827 - accuracy: 0.5064 - val_loss: 1.4836 - val_accuracy: 0.4746\n",
      "Epoch 35/100\n",
      "40/40 [==============================] - 2s 48ms/step - loss: 1.3782 - accuracy: 0.5071 - val_loss: 1.4586 - val_accuracy: 0.4792\n",
      "Epoch 36/100\n",
      "40/40 [==============================] - 2s 47ms/step - loss: 1.3709 - accuracy: 0.5106 - val_loss: 1.4941 - val_accuracy: 0.4756\n",
      "Epoch 37/100\n",
      "40/40 [==============================] - 2s 50ms/step - loss: 1.3740 - accuracy: 0.5095 - val_loss: 1.4859 - val_accuracy: 0.4687\n",
      "Epoch 38/100\n",
      "40/40 [==============================] - 2s 47ms/step - loss: 1.3601 - accuracy: 0.5148 - val_loss: 1.4470 - val_accuracy: 0.4858\n",
      "Epoch 39/100\n",
      "40/40 [==============================] - 3s 78ms/step - loss: 1.3472 - accuracy: 0.5213 - val_loss: 1.4648 - val_accuracy: 0.4803\n",
      "Epoch 40/100\n",
      "40/40 [==============================] - 2s 50ms/step - loss: 1.3548 - accuracy: 0.5174 - val_loss: 1.4547 - val_accuracy: 0.4824\n",
      "Epoch 41/100\n",
      "40/40 [==============================] - 2s 47ms/step - loss: 1.3612 - accuracy: 0.5139 - val_loss: 1.5034 - val_accuracy: 0.4668\n",
      "Epoch 42/100\n",
      "40/40 [==============================] - 2s 47ms/step - loss: 1.3477 - accuracy: 0.5213 - val_loss: 1.4516 - val_accuracy: 0.4816\n",
      "Epoch 43/100\n",
      "40/40 [==============================] - 2s 48ms/step - loss: 1.3331 - accuracy: 0.5243 - val_loss: 1.4348 - val_accuracy: 0.4861\n",
      "Epoch 44/100\n",
      "40/40 [==============================] - 2s 47ms/step - loss: 1.3311 - accuracy: 0.5258 - val_loss: 1.4872 - val_accuracy: 0.4719\n",
      "Epoch 45/100\n",
      "40/40 [==============================] - 3s 77ms/step - loss: 1.3311 - accuracy: 0.5267 - val_loss: 1.4443 - val_accuracy: 0.4912\n",
      "Epoch 46/100\n",
      "40/40 [==============================] - 2s 47ms/step - loss: 1.3224 - accuracy: 0.5300 - val_loss: 1.4838 - val_accuracy: 0.4718\n",
      "Epoch 47/100\n",
      "40/40 [==============================] - 2s 51ms/step - loss: 1.3197 - accuracy: 0.5299 - val_loss: 1.4485 - val_accuracy: 0.4838\n",
      "Epoch 48/100\n",
      "40/40 [==============================] - 2s 47ms/step - loss: 1.3182 - accuracy: 0.5289 - val_loss: 1.4410 - val_accuracy: 0.4885\n",
      "Epoch 49/100\n",
      "40/40 [==============================] - 2s 47ms/step - loss: 1.2997 - accuracy: 0.5382 - val_loss: 1.4430 - val_accuracy: 0.4884\n",
      "Epoch 50/100\n",
      "40/40 [==============================] - 2s 47ms/step - loss: 1.3023 - accuracy: 0.5356 - val_loss: 1.4658 - val_accuracy: 0.4778\n",
      "Epoch 51/100\n",
      "40/40 [==============================] - 3s 78ms/step - loss: 1.3180 - accuracy: 0.5285 - val_loss: 1.4577 - val_accuracy: 0.4816\n",
      "Epoch 52/100\n",
      "40/40 [==============================] - 2s 48ms/step - loss: 1.3012 - accuracy: 0.5360 - val_loss: 1.4296 - val_accuracy: 0.4929\n",
      "Epoch 53/100\n",
      "40/40 [==============================] - 2s 47ms/step - loss: 1.2880 - accuracy: 0.5399 - val_loss: 1.4276 - val_accuracy: 0.4965\n",
      "Epoch 54/100\n",
      "40/40 [==============================] - 2s 50ms/step - loss: 1.2880 - accuracy: 0.5406 - val_loss: 1.4427 - val_accuracy: 0.4895\n",
      "Epoch 55/100\n",
      "40/40 [==============================] - 2s 47ms/step - loss: 1.2858 - accuracy: 0.5405 - val_loss: 1.4416 - val_accuracy: 0.4880\n",
      "Epoch 56/100\n",
      "40/40 [==============================] - 2s 47ms/step - loss: 1.2930 - accuracy: 0.5372 - val_loss: 1.4730 - val_accuracy: 0.4778\n",
      "Epoch 57/100\n",
      "40/40 [==============================] - 3s 85ms/step - loss: 1.2775 - accuracy: 0.5450 - val_loss: 1.4473 - val_accuracy: 0.4867\n",
      "Epoch 58/100\n",
      "40/40 [==============================] - 2s 47ms/step - loss: 1.2811 - accuracy: 0.5438 - val_loss: 1.4436 - val_accuracy: 0.4879\n",
      "Epoch 59/100\n",
      "40/40 [==============================] - 2s 47ms/step - loss: 1.2770 - accuracy: 0.5438 - val_loss: 1.4652 - val_accuracy: 0.4790\n",
      "Epoch 60/100\n",
      "40/40 [==============================] - 2s 51ms/step - loss: 1.2691 - accuracy: 0.5480 - val_loss: 1.4242 - val_accuracy: 0.4978\n",
      "Epoch 61/100\n",
      "40/40 [==============================] - 2s 48ms/step - loss: 1.2645 - accuracy: 0.5486 - val_loss: 1.4463 - val_accuracy: 0.4908\n",
      "Epoch 62/100\n",
      "40/40 [==============================] - 2s 48ms/step - loss: 1.2779 - accuracy: 0.5467 - val_loss: 1.4849 - val_accuracy: 0.4752\n",
      "Epoch 63/100\n",
      "40/40 [==============================] - 3s 78ms/step - loss: 1.2668 - accuracy: 0.5492 - val_loss: 1.4302 - val_accuracy: 0.4906\n",
      "Epoch 64/100\n",
      "40/40 [==============================] - 2s 48ms/step - loss: 1.2513 - accuracy: 0.5543 - val_loss: 1.4380 - val_accuracy: 0.4952\n",
      "Epoch 65/100\n",
      "40/40 [==============================] - 2s 47ms/step - loss: 1.2440 - accuracy: 0.5573 - val_loss: 1.4297 - val_accuracy: 0.4920\n",
      "Epoch 66/100\n",
      "40/40 [==============================] - 2s 47ms/step - loss: 1.2424 - accuracy: 0.5587 - val_loss: 1.4351 - val_accuracy: 0.4925\n",
      "Epoch 67/100\n",
      "40/40 [==============================] - 2s 48ms/step - loss: 1.2450 - accuracy: 0.5559 - val_loss: 1.4321 - val_accuracy: 0.4933\n",
      "Epoch 68/100\n",
      "40/40 [==============================] - 2s 48ms/step - loss: 1.2349 - accuracy: 0.5624 - val_loss: 1.4228 - val_accuracy: 0.4996\n",
      "Epoch 69/100\n",
      "40/40 [==============================] - 3s 77ms/step - loss: 1.2277 - accuracy: 0.5614 - val_loss: 1.4408 - val_accuracy: 0.4921\n",
      "Epoch 70/100\n",
      "40/40 [==============================] - 2s 49ms/step - loss: 1.2279 - accuracy: 0.5646 - val_loss: 1.4433 - val_accuracy: 0.4911\n",
      "Epoch 71/100\n",
      "40/40 [==============================] - 2s 49ms/step - loss: 1.2327 - accuracy: 0.5597 - val_loss: 1.4389 - val_accuracy: 0.4970\n",
      "Epoch 72/100\n",
      "40/40 [==============================] - 2s 48ms/step - loss: 1.2243 - accuracy: 0.5656 - val_loss: 1.4384 - val_accuracy: 0.4958\n",
      "Epoch 73/100\n",
      "40/40 [==============================] - 2s 48ms/step - loss: 1.2255 - accuracy: 0.5615 - val_loss: 1.4327 - val_accuracy: 0.4934\n",
      "Epoch 74/100\n",
      "40/40 [==============================] - 2s 48ms/step - loss: 1.2169 - accuracy: 0.5666 - val_loss: 1.4344 - val_accuracy: 0.5024\n",
      "Epoch 75/100\n",
      "40/40 [==============================] - 3s 85ms/step - loss: 1.2192 - accuracy: 0.5633 - val_loss: 1.4262 - val_accuracy: 0.4961\n",
      "Epoch 76/100\n",
      "40/40 [==============================] - 2s 48ms/step - loss: 1.2135 - accuracy: 0.5674 - val_loss: 1.4341 - val_accuracy: 0.4953\n",
      "Epoch 77/100\n",
      "40/40 [==============================] - 2s 47ms/step - loss: 1.2145 - accuracy: 0.5652 - val_loss: 1.4385 - val_accuracy: 0.4949\n",
      "Epoch 78/100\n",
      "40/40 [==============================] - 2s 51ms/step - loss: 1.2061 - accuracy: 0.5693 - val_loss: 1.4703 - val_accuracy: 0.4884\n",
      "Epoch 79/100\n",
      "40/40 [==============================] - 2s 47ms/step - loss: 1.2124 - accuracy: 0.5680 - val_loss: 1.4377 - val_accuracy: 0.4922\n",
      "Epoch 80/100\n",
      "40/40 [==============================] - 2s 48ms/step - loss: 1.2015 - accuracy: 0.5726 - val_loss: 1.4347 - val_accuracy: 0.4925\n",
      "Epoch 81/100\n",
      "40/40 [==============================] - 3s 80ms/step - loss: 1.2096 - accuracy: 0.5692 - val_loss: 1.4571 - val_accuracy: 0.4948\n",
      "Epoch 82/100\n",
      "40/40 [==============================] - 2s 48ms/step - loss: 1.1934 - accuracy: 0.5752 - val_loss: 1.4375 - val_accuracy: 0.4939\n",
      "Epoch 83/100\n",
      "40/40 [==============================] - 2s 47ms/step - loss: 1.1994 - accuracy: 0.5723 - val_loss: 1.4552 - val_accuracy: 0.4915\n",
      "Epoch 84/100\n",
      "40/40 [==============================] - 2s 48ms/step - loss: 1.1980 - accuracy: 0.5717 - val_loss: 1.4492 - val_accuracy: 0.4962\n",
      "Epoch 85/100\n",
      "40/40 [==============================] - 2s 48ms/step - loss: 1.1942 - accuracy: 0.5735 - val_loss: 1.4467 - val_accuracy: 0.4889\n",
      "Epoch 86/100\n",
      "40/40 [==============================] - 2s 48ms/step - loss: 1.1900 - accuracy: 0.5759 - val_loss: 1.4322 - val_accuracy: 0.4961\n",
      "Epoch 87/100\n",
      "40/40 [==============================] - 3s 79ms/step - loss: 1.1821 - accuracy: 0.5803 - val_loss: 1.4323 - val_accuracy: 0.5002\n",
      "Epoch 88/100\n",
      "40/40 [==============================] - 2s 48ms/step - loss: 1.1833 - accuracy: 0.5781 - val_loss: 1.4490 - val_accuracy: 0.4891\n",
      "Epoch 89/100\n",
      "40/40 [==============================] - 2s 46ms/step - loss: 1.1833 - accuracy: 0.5787 - val_loss: 1.4396 - val_accuracy: 0.4979\n",
      "Epoch 90/100\n",
      "40/40 [==============================] - 2s 47ms/step - loss: 1.1710 - accuracy: 0.5842 - val_loss: 1.4390 - val_accuracy: 0.4931\n",
      "Epoch 91/100\n",
      "40/40 [==============================] - 2s 48ms/step - loss: 1.1756 - accuracy: 0.5804 - val_loss: 1.4505 - val_accuracy: 0.4928\n",
      "Epoch 92/100\n",
      "40/40 [==============================] - 2s 47ms/step - loss: 1.1775 - accuracy: 0.5784 - val_loss: 1.4581 - val_accuracy: 0.4923\n",
      "Epoch 93/100\n",
      "40/40 [==============================] - 3s 78ms/step - loss: 1.1949 - accuracy: 0.5714 - val_loss: 1.4459 - val_accuracy: 0.4904\n",
      "Epoch 94/100\n",
      "40/40 [==============================] - 2s 47ms/step - loss: 1.1802 - accuracy: 0.5769 - val_loss: 1.4628 - val_accuracy: 0.4866\n",
      "Epoch 95/100\n",
      "40/40 [==============================] - 2s 47ms/step - loss: 1.1617 - accuracy: 0.5861 - val_loss: 1.4429 - val_accuracy: 0.4958\n",
      "Epoch 96/100\n",
      "40/40 [==============================] - 2s 48ms/step - loss: 1.1578 - accuracy: 0.5858 - val_loss: 1.4504 - val_accuracy: 0.4909\n",
      "Epoch 97/100\n",
      "40/40 [==============================] - 2s 48ms/step - loss: 1.1549 - accuracy: 0.5895 - val_loss: 1.4576 - val_accuracy: 0.4909\n",
      "Epoch 98/100\n",
      "40/40 [==============================] - 2s 47ms/step - loss: 1.1519 - accuracy: 0.5895 - val_loss: 1.4404 - val_accuracy: 0.4998\n",
      "Epoch 99/100\n",
      "40/40 [==============================] - 3s 78ms/step - loss: 1.1610 - accuracy: 0.5833 - val_loss: 1.4589 - val_accuracy: 0.4929\n",
      "Epoch 100/100\n",
      "40/40 [==============================] - 2s 48ms/step - loss: 1.1549 - accuracy: 0.5857 - val_loss: 1.4752 - val_accuracy: 0.4874\n",
      "CPU times: user 5min 31s, sys: 7.44 s, total: 5min 38s\n",
      "Wall time: 4min 23s\n"
     ]
    },
    {
     "data": {
      "text/plain": [
       "<keras.callbacks.History at 0x7f548ee4eb20>"
      ]
     },
     "execution_count": 54,
     "metadata": {},
     "output_type": "execute_result"
    }
   ],
   "source": [
    "%%time\n",
    "nr_epochs = 100\n",
    "model_1.fit(x = x_train, y = y_train, batch_size = samples_per_batch, epochs = nr_epochs,\n",
    "            verbose = 1, validation_data = (x_val, y_val))"
   ]
  },
  {
   "cell_type": "code",
   "execution_count": null,
   "id": "KTgI8WcliiMl",
   "metadata": {
    "colab": {
     "base_uri": "https://localhost:8080/"
    },
    "id": "KTgI8WcliiMl",
    "outputId": "1356e865-6cb1-4ee6-a897-cd623b821b15"
   },
   "outputs": [
    {
     "name": "stdout",
     "output_type": "stream",
     "text": [
      "Epoch 1/100\n",
      "40/40 [==============================] - 4s 88ms/step - loss: 2.2318 - accuracy: 0.1675 - val_loss: 2.0984 - val_accuracy: 0.2285\n",
      "Epoch 2/100\n",
      "40/40 [==============================] - 3s 78ms/step - loss: 2.0425 - accuracy: 0.2454 - val_loss: 1.9785 - val_accuracy: 0.2675\n",
      "Epoch 3/100\n",
      "40/40 [==============================] - 4s 108ms/step - loss: 1.9567 - accuracy: 0.2761 - val_loss: 1.9059 - val_accuracy: 0.3010\n",
      "Epoch 4/100\n",
      "40/40 [==============================] - 3s 76ms/step - loss: 1.8984 - accuracy: 0.3015 - val_loss: 1.8628 - val_accuracy: 0.3146\n",
      "Epoch 5/100\n",
      "40/40 [==============================] - 3s 77ms/step - loss: 1.8594 - accuracy: 0.3241 - val_loss: 1.8269 - val_accuracy: 0.3311\n",
      "Epoch 6/100\n",
      "40/40 [==============================] - 3s 80ms/step - loss: 1.8316 - accuracy: 0.3393 - val_loss: 1.7942 - val_accuracy: 0.3432\n",
      "Epoch 7/100\n",
      "40/40 [==============================] - 4s 105ms/step - loss: 1.8044 - accuracy: 0.3495 - val_loss: 1.7741 - val_accuracy: 0.3568\n",
      "Epoch 8/100\n",
      "40/40 [==============================] - 3s 76ms/step - loss: 1.7819 - accuracy: 0.3582 - val_loss: 1.7608 - val_accuracy: 0.3598\n",
      "Epoch 9/100\n",
      "40/40 [==============================] - 3s 76ms/step - loss: 1.7547 - accuracy: 0.3687 - val_loss: 1.7244 - val_accuracy: 0.3804\n",
      "Epoch 10/100\n",
      "40/40 [==============================] - 4s 96ms/step - loss: 1.7307 - accuracy: 0.3817 - val_loss: 1.7132 - val_accuracy: 0.3808\n",
      "Epoch 11/100\n",
      "40/40 [==============================] - 4s 89ms/step - loss: 1.7127 - accuracy: 0.3852 - val_loss: 1.6768 - val_accuracy: 0.3954\n",
      "Epoch 12/100\n",
      "40/40 [==============================] - 3s 77ms/step - loss: 1.6950 - accuracy: 0.3921 - val_loss: 1.6552 - val_accuracy: 0.4018\n",
      "Epoch 13/100\n",
      "40/40 [==============================] - 3s 76ms/step - loss: 1.6795 - accuracy: 0.3972 - val_loss: 1.6816 - val_accuracy: 0.3925\n",
      "Epoch 14/100\n",
      "40/40 [==============================] - 4s 108ms/step - loss: 1.6652 - accuracy: 0.3996 - val_loss: 1.6362 - val_accuracy: 0.4123\n",
      "Epoch 15/100\n",
      "40/40 [==============================] - 3s 77ms/step - loss: 1.6568 - accuracy: 0.4052 - val_loss: 1.6320 - val_accuracy: 0.4127\n",
      "Epoch 16/100\n",
      "40/40 [==============================] - 3s 76ms/step - loss: 1.6402 - accuracy: 0.4119 - val_loss: 1.6280 - val_accuracy: 0.4136\n",
      "Epoch 17/100\n",
      "40/40 [==============================] - 3s 76ms/step - loss: 1.6330 - accuracy: 0.4124 - val_loss: 1.6104 - val_accuracy: 0.4192\n",
      "Epoch 18/100\n",
      "40/40 [==============================] - 4s 108ms/step - loss: 1.6249 - accuracy: 0.4171 - val_loss: 1.6033 - val_accuracy: 0.4265\n",
      "Epoch 19/100\n",
      "40/40 [==============================] - 3s 76ms/step - loss: 1.6208 - accuracy: 0.4182 - val_loss: 1.6019 - val_accuracy: 0.4205\n",
      "Epoch 20/100\n",
      "40/40 [==============================] - 3s 76ms/step - loss: 1.6067 - accuracy: 0.4214 - val_loss: 1.6160 - val_accuracy: 0.4129\n",
      "Epoch 21/100\n",
      "40/40 [==============================] - 3s 79ms/step - loss: 1.6015 - accuracy: 0.4254 - val_loss: 1.5909 - val_accuracy: 0.4255\n",
      "Epoch 22/100\n",
      "40/40 [==============================] - 4s 107ms/step - loss: 1.6081 - accuracy: 0.4232 - val_loss: 1.6088 - val_accuracy: 0.4188\n",
      "Epoch 23/100\n",
      "40/40 [==============================] - 3s 76ms/step - loss: 1.5916 - accuracy: 0.4297 - val_loss: 1.5897 - val_accuracy: 0.4282\n",
      "Epoch 24/100\n",
      "40/40 [==============================] - 3s 77ms/step - loss: 1.5852 - accuracy: 0.4322 - val_loss: 1.5810 - val_accuracy: 0.4299\n",
      "Epoch 25/100\n",
      "40/40 [==============================] - 4s 97ms/step - loss: 1.5758 - accuracy: 0.4358 - val_loss: 1.5636 - val_accuracy: 0.4361\n",
      "Epoch 26/100\n",
      "40/40 [==============================] - 4s 89ms/step - loss: 1.5668 - accuracy: 0.4386 - val_loss: 1.5564 - val_accuracy: 0.4415\n",
      "Epoch 27/100\n",
      "40/40 [==============================] - 3s 76ms/step - loss: 1.5643 - accuracy: 0.4404 - val_loss: 1.5621 - val_accuracy: 0.4422\n",
      "Epoch 28/100\n",
      "40/40 [==============================] - 3s 77ms/step - loss: 1.5654 - accuracy: 0.4399 - val_loss: 1.5521 - val_accuracy: 0.4439\n",
      "Epoch 29/100\n",
      "40/40 [==============================] - 4s 108ms/step - loss: 1.5517 - accuracy: 0.4454 - val_loss: 1.5455 - val_accuracy: 0.4469\n",
      "Epoch 30/100\n",
      "40/40 [==============================] - 3s 76ms/step - loss: 1.5504 - accuracy: 0.4470 - val_loss: 1.5503 - val_accuracy: 0.4455\n",
      "Epoch 31/100\n",
      "40/40 [==============================] - 3s 77ms/step - loss: 1.5414 - accuracy: 0.4520 - val_loss: 1.5481 - val_accuracy: 0.4435\n",
      "Epoch 32/100\n",
      "40/40 [==============================] - 3s 76ms/step - loss: 1.5369 - accuracy: 0.4530 - val_loss: 1.5339 - val_accuracy: 0.4498\n",
      "Epoch 33/100\n",
      "40/40 [==============================] - 5s 126ms/step - loss: 1.5393 - accuracy: 0.4509 - val_loss: 1.5483 - val_accuracy: 0.4484\n",
      "Epoch 34/100\n",
      "40/40 [==============================] - 3s 77ms/step - loss: 1.5327 - accuracy: 0.4538 - val_loss: 1.5305 - val_accuracy: 0.4480\n",
      "Epoch 35/100\n",
      "40/40 [==============================] - 3s 77ms/step - loss: 1.5290 - accuracy: 0.4550 - val_loss: 1.5339 - val_accuracy: 0.4523\n",
      "Epoch 36/100\n",
      "40/40 [==============================] - 3s 78ms/step - loss: 1.5245 - accuracy: 0.4548 - val_loss: 1.5194 - val_accuracy: 0.4553\n",
      "Epoch 37/100\n",
      "40/40 [==============================] - 4s 106ms/step - loss: 1.5155 - accuracy: 0.4591 - val_loss: 1.5303 - val_accuracy: 0.4509\n",
      "Epoch 38/100\n",
      "40/40 [==============================] - 3s 76ms/step - loss: 1.5161 - accuracy: 0.4556 - val_loss: 1.5123 - val_accuracy: 0.4610\n",
      "Epoch 39/100\n",
      "40/40 [==============================] - 3s 78ms/step - loss: 1.5046 - accuracy: 0.4607 - val_loss: 1.5032 - val_accuracy: 0.4589\n",
      "Epoch 40/100\n",
      "40/40 [==============================] - 4s 99ms/step - loss: 1.5039 - accuracy: 0.4641 - val_loss: 1.5092 - val_accuracy: 0.4618\n",
      "Epoch 41/100\n",
      "40/40 [==============================] - 3s 86ms/step - loss: 1.4999 - accuracy: 0.4642 - val_loss: 1.5281 - val_accuracy: 0.4487\n",
      "Epoch 42/100\n",
      "40/40 [==============================] - 3s 77ms/step - loss: 1.4917 - accuracy: 0.4663 - val_loss: 1.4993 - val_accuracy: 0.4631\n",
      "Epoch 43/100\n",
      "40/40 [==============================] - 3s 77ms/step - loss: 1.4897 - accuracy: 0.4651 - val_loss: 1.4968 - val_accuracy: 0.4650\n",
      "Epoch 44/100\n",
      "40/40 [==============================] - 4s 111ms/step - loss: 1.5016 - accuracy: 0.4631 - val_loss: 1.5073 - val_accuracy: 0.4537\n",
      "Epoch 45/100\n",
      "40/40 [==============================] - 3s 80ms/step - loss: 1.4842 - accuracy: 0.4700 - val_loss: 1.4852 - val_accuracy: 0.4675\n",
      "Epoch 46/100\n",
      "40/40 [==============================] - 5s 116ms/step - loss: 1.4834 - accuracy: 0.4693 - val_loss: 1.4944 - val_accuracy: 0.4653\n",
      "Epoch 47/100\n",
      "40/40 [==============================] - 6s 141ms/step - loss: 1.4802 - accuracy: 0.4708 - val_loss: 1.4820 - val_accuracy: 0.4689\n",
      "Epoch 48/100\n",
      "40/40 [==============================] - 3s 78ms/step - loss: 1.4775 - accuracy: 0.4712 - val_loss: 1.4895 - val_accuracy: 0.4640\n",
      "Epoch 49/100\n",
      "40/40 [==============================] - 3s 77ms/step - loss: 1.4675 - accuracy: 0.4752 - val_loss: 1.4819 - val_accuracy: 0.4691\n",
      "Epoch 50/100\n",
      "40/40 [==============================] - 3s 79ms/step - loss: 1.4717 - accuracy: 0.4736 - val_loss: 1.4892 - val_accuracy: 0.4674\n",
      "Epoch 51/100\n",
      "40/40 [==============================] - 4s 109ms/step - loss: 1.4664 - accuracy: 0.4750 - val_loss: 1.4745 - val_accuracy: 0.4745\n",
      "Epoch 52/100\n",
      "40/40 [==============================] - 3s 76ms/step - loss: 1.4644 - accuracy: 0.4768 - val_loss: 1.4865 - val_accuracy: 0.4687\n",
      "Epoch 53/100\n",
      "40/40 [==============================] - 3s 78ms/step - loss: 1.4618 - accuracy: 0.4791 - val_loss: 1.4932 - val_accuracy: 0.4641\n",
      "Epoch 54/100\n",
      "40/40 [==============================] - 4s 97ms/step - loss: 1.4637 - accuracy: 0.4779 - val_loss: 1.4915 - val_accuracy: 0.4630\n",
      "Epoch 55/100\n",
      "40/40 [==============================] - 4s 89ms/step - loss: 1.4490 - accuracy: 0.4843 - val_loss: 1.4702 - val_accuracy: 0.4733\n",
      "Epoch 56/100\n",
      "40/40 [==============================] - 3s 78ms/step - loss: 1.4458 - accuracy: 0.4828 - val_loss: 1.4716 - val_accuracy: 0.4757\n",
      "Epoch 57/100\n",
      "40/40 [==============================] - 3s 76ms/step - loss: 1.4483 - accuracy: 0.4832 - val_loss: 1.4761 - val_accuracy: 0.4692\n",
      "Epoch 58/100\n",
      "40/40 [==============================] - 4s 108ms/step - loss: 1.4433 - accuracy: 0.4830 - val_loss: 1.4828 - val_accuracy: 0.4681\n",
      "Epoch 59/100\n",
      "40/40 [==============================] - 3s 78ms/step - loss: 1.4445 - accuracy: 0.4820 - val_loss: 1.4688 - val_accuracy: 0.4752\n",
      "Epoch 60/100\n",
      "40/40 [==============================] - 3s 77ms/step - loss: 1.4400 - accuracy: 0.4849 - val_loss: 1.4651 - val_accuracy: 0.4799\n",
      "Epoch 61/100\n",
      "40/40 [==============================] - 3s 77ms/step - loss: 1.4370 - accuracy: 0.4858 - val_loss: 1.4598 - val_accuracy: 0.4797\n",
      "Epoch 62/100\n",
      "40/40 [==============================] - 4s 111ms/step - loss: 1.4376 - accuracy: 0.4836 - val_loss: 1.4575 - val_accuracy: 0.4796\n",
      "Epoch 63/100\n",
      "40/40 [==============================] - 3s 76ms/step - loss: 1.4315 - accuracy: 0.4901 - val_loss: 1.4734 - val_accuracy: 0.4705\n",
      "Epoch 64/100\n",
      "40/40 [==============================] - 3s 77ms/step - loss: 1.4346 - accuracy: 0.4870 - val_loss: 1.4693 - val_accuracy: 0.4712\n",
      "Epoch 65/100\n",
      "40/40 [==============================] - 3s 79ms/step - loss: 1.4345 - accuracy: 0.4861 - val_loss: 1.4579 - val_accuracy: 0.4809\n",
      "Epoch 66/100\n",
      "40/40 [==============================] - 4s 105ms/step - loss: 1.4246 - accuracy: 0.4899 - val_loss: 1.4580 - val_accuracy: 0.4790\n",
      "Epoch 67/100\n",
      "40/40 [==============================] - 3s 77ms/step - loss: 1.4176 - accuracy: 0.4939 - val_loss: 1.4518 - val_accuracy: 0.4823\n",
      "Epoch 68/100\n",
      "40/40 [==============================] - 3s 77ms/step - loss: 1.4213 - accuracy: 0.4929 - val_loss: 1.4575 - val_accuracy: 0.4768\n",
      "Epoch 69/100\n",
      "40/40 [==============================] - 4s 104ms/step - loss: 1.4197 - accuracy: 0.4924 - val_loss: 1.4548 - val_accuracy: 0.4840\n",
      "Epoch 70/100\n",
      "40/40 [==============================] - 3s 82ms/step - loss: 1.4232 - accuracy: 0.4926 - val_loss: 1.4539 - val_accuracy: 0.4817\n",
      "Epoch 71/100\n",
      "40/40 [==============================] - 3s 78ms/step - loss: 1.4143 - accuracy: 0.4963 - val_loss: 1.4556 - val_accuracy: 0.4805\n",
      "Epoch 72/100\n",
      "40/40 [==============================] - 3s 80ms/step - loss: 1.4117 - accuracy: 0.4945 - val_loss: 1.4467 - val_accuracy: 0.4843\n",
      "Epoch 73/100\n",
      "40/40 [==============================] - 4s 109ms/step - loss: 1.4099 - accuracy: 0.4963 - val_loss: 1.4443 - val_accuracy: 0.4858\n",
      "Epoch 74/100\n",
      "40/40 [==============================] - 3s 78ms/step - loss: 1.4128 - accuracy: 0.4964 - val_loss: 1.4542 - val_accuracy: 0.4800\n",
      "Epoch 75/100\n",
      "40/40 [==============================] - 3s 79ms/step - loss: 1.4086 - accuracy: 0.4918 - val_loss: 1.4479 - val_accuracy: 0.4827\n",
      "Epoch 76/100\n",
      "40/40 [==============================] - 3s 79ms/step - loss: 1.4017 - accuracy: 0.4989 - val_loss: 1.4437 - val_accuracy: 0.4834\n",
      "Epoch 77/100\n",
      "40/40 [==============================] - 4s 107ms/step - loss: 1.4104 - accuracy: 0.4945 - val_loss: 1.4489 - val_accuracy: 0.4818\n",
      "Epoch 78/100\n",
      "40/40 [==============================] - 3s 77ms/step - loss: 1.4020 - accuracy: 0.5003 - val_loss: 1.4583 - val_accuracy: 0.4789\n",
      "Epoch 79/100\n",
      "40/40 [==============================] - 3s 80ms/step - loss: 1.3999 - accuracy: 0.5010 - val_loss: 1.4550 - val_accuracy: 0.4833\n",
      "Epoch 80/100\n",
      "40/40 [==============================] - 4s 90ms/step - loss: 1.3977 - accuracy: 0.4994 - val_loss: 1.4454 - val_accuracy: 0.4870\n",
      "Epoch 81/100\n",
      "40/40 [==============================] - 4s 94ms/step - loss: 1.3966 - accuracy: 0.5011 - val_loss: 1.4462 - val_accuracy: 0.4855\n",
      "Epoch 82/100\n",
      "40/40 [==============================] - 3s 78ms/step - loss: 1.3961 - accuracy: 0.4998 - val_loss: 1.4432 - val_accuracy: 0.4852\n",
      "Epoch 83/100\n",
      "40/40 [==============================] - 3s 80ms/step - loss: 1.3953 - accuracy: 0.5009 - val_loss: 1.4434 - val_accuracy: 0.4839\n",
      "Epoch 84/100\n",
      "40/40 [==============================] - 4s 109ms/step - loss: 1.3950 - accuracy: 0.4994 - val_loss: 1.4489 - val_accuracy: 0.4781\n",
      "Epoch 85/100\n",
      "40/40 [==============================] - 3s 78ms/step - loss: 1.3925 - accuracy: 0.4998 - val_loss: 1.4396 - val_accuracy: 0.4882\n",
      "Epoch 86/100\n",
      "40/40 [==============================] - 3s 77ms/step - loss: 1.3893 - accuracy: 0.5021 - val_loss: 1.4401 - val_accuracy: 0.4885\n",
      "Epoch 87/100\n",
      "40/40 [==============================] - 3s 78ms/step - loss: 1.3886 - accuracy: 0.5029 - val_loss: 1.4417 - val_accuracy: 0.4834\n",
      "Epoch 88/100\n",
      "40/40 [==============================] - 4s 111ms/step - loss: 1.3893 - accuracy: 0.5031 - val_loss: 1.4467 - val_accuracy: 0.4836\n",
      "Epoch 89/100\n",
      "40/40 [==============================] - 3s 77ms/step - loss: 1.3944 - accuracy: 0.5023 - val_loss: 1.4425 - val_accuracy: 0.4845\n",
      "Epoch 90/100\n",
      "40/40 [==============================] - 3s 80ms/step - loss: 1.3859 - accuracy: 0.5029 - val_loss: 1.4503 - val_accuracy: 0.4860\n",
      "Epoch 91/100\n",
      "40/40 [==============================] - 3s 83ms/step - loss: 1.3843 - accuracy: 0.5034 - val_loss: 1.4370 - val_accuracy: 0.4898\n",
      "Epoch 92/100\n",
      "40/40 [==============================] - 4s 102ms/step - loss: 1.3810 - accuracy: 0.5066 - val_loss: 1.4414 - val_accuracy: 0.4863\n",
      "Epoch 93/100\n",
      "40/40 [==============================] - 3s 77ms/step - loss: 1.3857 - accuracy: 0.5043 - val_loss: 1.4399 - val_accuracy: 0.4885\n",
      "Epoch 94/100\n",
      "40/40 [==============================] - 3s 78ms/step - loss: 1.3889 - accuracy: 0.5022 - val_loss: 1.4374 - val_accuracy: 0.4865\n",
      "Epoch 95/100\n",
      "40/40 [==============================] - 4s 104ms/step - loss: 1.3770 - accuracy: 0.5066 - val_loss: 1.4442 - val_accuracy: 0.4862\n",
      "Epoch 96/100\n",
      "40/40 [==============================] - 3s 85ms/step - loss: 1.3764 - accuracy: 0.5049 - val_loss: 1.4370 - val_accuracy: 0.4885\n",
      "Epoch 97/100\n",
      "40/40 [==============================] - 3s 77ms/step - loss: 1.3756 - accuracy: 0.5113 - val_loss: 1.4383 - val_accuracy: 0.4891\n",
      "Epoch 98/100\n",
      "40/40 [==============================] - 3s 77ms/step - loss: 1.3694 - accuracy: 0.5133 - val_loss: 1.4511 - val_accuracy: 0.4833\n",
      "Epoch 99/100\n",
      "40/40 [==============================] - 4s 109ms/step - loss: 1.3707 - accuracy: 0.5111 - val_loss: 1.4419 - val_accuracy: 0.4859\n",
      "Epoch 100/100\n",
      "40/40 [==============================] - 3s 77ms/step - loss: 1.3756 - accuracy: 0.5092 - val_loss: 1.4471 - val_accuracy: 0.4806\n",
      "CPU times: user 8min 58s, sys: 10.2 s, total: 9min 8s\n",
      "Wall time: 6min 23s\n"
     ]
    },
    {
     "data": {
      "text/plain": [
       "<keras.callbacks.History at 0x7f549060be50>"
      ]
     },
     "execution_count": 55,
     "metadata": {},
     "output_type": "execute_result"
    }
   ],
   "source": [
    "%%time\n",
    "nr_epochs = 100\n",
    "model_2.fit(x = x_train, y = y_train, batch_size = samples_per_batch, epochs = nr_epochs,\n",
    "            verbose = 1, validation_data = (x_val, y_val))"
   ]
  },
  {
   "cell_type": "code",
   "execution_count": null,
   "id": "_3pgIx71pxaG",
   "metadata": {
    "colab": {
     "base_uri": "https://localhost:8080/"
    },
    "id": "_3pgIx71pxaG",
    "outputId": "cfe93e8d-bf87-4d6a-cdb1-9f7abfe3072d"
   },
   "outputs": [
    {
     "name": "stdout",
     "output_type": "stream",
     "text": [
      "Epoch 1/100\n",
      "40/40 [==============================] - 4s 89ms/step - loss: 2.2699 - accuracy: 0.1472 - val_loss: 2.1554 - val_accuracy: 0.2059\n",
      "Epoch 2/100\n",
      "40/40 [==============================] - 5s 115ms/step - loss: 2.1189 - accuracy: 0.2155 - val_loss: 2.0257 - val_accuracy: 0.2643\n",
      "Epoch 3/100\n",
      "40/40 [==============================] - 3s 80ms/step - loss: 2.0180 - accuracy: 0.2653 - val_loss: 1.9179 - val_accuracy: 0.3122\n",
      "Epoch 4/100\n",
      "40/40 [==============================] - 3s 80ms/step - loss: 1.9350 - accuracy: 0.2968 - val_loss: 1.8467 - val_accuracy: 0.3385\n",
      "Epoch 5/100\n",
      "40/40 [==============================] - 4s 101ms/step - loss: 1.8812 - accuracy: 0.3201 - val_loss: 1.7763 - val_accuracy: 0.3701\n",
      "Epoch 6/100\n",
      "40/40 [==============================] - 4s 88ms/step - loss: 1.8450 - accuracy: 0.3330 - val_loss: 1.7442 - val_accuracy: 0.3718\n",
      "Epoch 7/100\n",
      "40/40 [==============================] - 3s 79ms/step - loss: 1.8209 - accuracy: 0.3405 - val_loss: 1.7540 - val_accuracy: 0.3660\n",
      "Epoch 8/100\n",
      "40/40 [==============================] - 3s 79ms/step - loss: 1.8112 - accuracy: 0.3448 - val_loss: 1.7124 - val_accuracy: 0.3833\n",
      "Epoch 9/100\n",
      "40/40 [==============================] - 4s 111ms/step - loss: 1.7894 - accuracy: 0.3561 - val_loss: 1.7099 - val_accuracy: 0.3875\n",
      "Epoch 10/100\n",
      "40/40 [==============================] - 3s 78ms/step - loss: 1.7849 - accuracy: 0.3532 - val_loss: 1.6805 - val_accuracy: 0.3921\n",
      "Epoch 11/100\n",
      "40/40 [==============================] - 3s 79ms/step - loss: 1.7665 - accuracy: 0.3649 - val_loss: 1.6837 - val_accuracy: 0.3995\n",
      "Epoch 12/100\n",
      "40/40 [==============================] - 3s 79ms/step - loss: 1.7621 - accuracy: 0.3670 - val_loss: 1.6704 - val_accuracy: 0.3981\n",
      "Epoch 13/100\n",
      "40/40 [==============================] - 4s 107ms/step - loss: 1.7531 - accuracy: 0.3679 - val_loss: 1.6602 - val_accuracy: 0.4073\n",
      "Epoch 14/100\n",
      "40/40 [==============================] - 3s 79ms/step - loss: 1.7474 - accuracy: 0.3712 - val_loss: 1.6530 - val_accuracy: 0.4103\n",
      "Epoch 15/100\n",
      "40/40 [==============================] - 3s 79ms/step - loss: 1.7316 - accuracy: 0.3758 - val_loss: 1.6487 - val_accuracy: 0.4078\n",
      "Epoch 16/100\n",
      "40/40 [==============================] - 4s 108ms/step - loss: 1.7294 - accuracy: 0.3768 - val_loss: 1.6385 - val_accuracy: 0.4226\n",
      "Epoch 17/100\n",
      "40/40 [==============================] - 3s 82ms/step - loss: 1.7151 - accuracy: 0.3813 - val_loss: 1.6203 - val_accuracy: 0.4229\n",
      "Epoch 18/100\n",
      "40/40 [==============================] - 3s 79ms/step - loss: 1.7102 - accuracy: 0.3832 - val_loss: 1.6090 - val_accuracy: 0.4284\n",
      "Epoch 19/100\n",
      "40/40 [==============================] - 3s 80ms/step - loss: 1.7127 - accuracy: 0.3804 - val_loss: 1.6120 - val_accuracy: 0.4208\n",
      "Epoch 20/100\n",
      "40/40 [==============================] - 4s 110ms/step - loss: 1.7032 - accuracy: 0.3861 - val_loss: 1.6197 - val_accuracy: 0.4279\n",
      "Epoch 21/100\n",
      "40/40 [==============================] - 3s 82ms/step - loss: 1.6946 - accuracy: 0.3883 - val_loss: 1.6173 - val_accuracy: 0.4228\n",
      "Epoch 22/100\n",
      "40/40 [==============================] - 3s 79ms/step - loss: 1.6987 - accuracy: 0.3895 - val_loss: 1.6050 - val_accuracy: 0.4357\n",
      "Epoch 23/100\n",
      "40/40 [==============================] - 4s 95ms/step - loss: 1.6859 - accuracy: 0.3898 - val_loss: 1.6149 - val_accuracy: 0.4283\n",
      "Epoch 24/100\n",
      "40/40 [==============================] - 4s 93ms/step - loss: 1.6867 - accuracy: 0.3894 - val_loss: 1.6077 - val_accuracy: 0.4274\n",
      "Epoch 25/100\n",
      "40/40 [==============================] - 3s 79ms/step - loss: 1.6832 - accuracy: 0.3923 - val_loss: 1.6160 - val_accuracy: 0.4192\n",
      "Epoch 26/100\n",
      "40/40 [==============================] - 3s 79ms/step - loss: 1.6808 - accuracy: 0.3937 - val_loss: 1.5948 - val_accuracy: 0.4354\n",
      "Epoch 27/100\n",
      "40/40 [==============================] - 4s 110ms/step - loss: 1.6751 - accuracy: 0.3932 - val_loss: 1.6017 - val_accuracy: 0.4262\n",
      "Epoch 28/100\n",
      "40/40 [==============================] - 3s 80ms/step - loss: 1.6799 - accuracy: 0.3916 - val_loss: 1.5869 - val_accuracy: 0.4360\n",
      "Epoch 29/100\n",
      "40/40 [==============================] - 4s 111ms/step - loss: 1.6722 - accuracy: 0.3954 - val_loss: 1.6044 - val_accuracy: 0.4303\n",
      "Epoch 30/100\n",
      "40/40 [==============================] - 4s 107ms/step - loss: 1.6691 - accuracy: 0.3979 - val_loss: 1.5919 - val_accuracy: 0.4336\n",
      "Epoch 31/100\n",
      "40/40 [==============================] - 3s 81ms/step - loss: 1.6671 - accuracy: 0.3958 - val_loss: 1.5843 - val_accuracy: 0.4367\n",
      "Epoch 32/100\n",
      "40/40 [==============================] - 3s 78ms/step - loss: 1.6540 - accuracy: 0.4010 - val_loss: 1.5742 - val_accuracy: 0.4358\n",
      "Epoch 33/100\n",
      "40/40 [==============================] - 3s 82ms/step - loss: 1.6655 - accuracy: 0.3998 - val_loss: 1.5856 - val_accuracy: 0.4356\n",
      "Epoch 34/100\n",
      "40/40 [==============================] - 4s 111ms/step - loss: 1.6518 - accuracy: 0.4036 - val_loss: 1.5759 - val_accuracy: 0.4370\n",
      "Epoch 35/100\n",
      "40/40 [==============================] - 3s 80ms/step - loss: 1.6558 - accuracy: 0.4010 - val_loss: 1.5918 - val_accuracy: 0.4329\n",
      "Epoch 36/100\n",
      "40/40 [==============================] - 3s 79ms/step - loss: 1.6505 - accuracy: 0.4013 - val_loss: 1.5577 - val_accuracy: 0.4490\n",
      "Epoch 37/100\n",
      "40/40 [==============================] - 4s 88ms/step - loss: 1.6501 - accuracy: 0.4036 - val_loss: 1.5769 - val_accuracy: 0.4389\n",
      "Epoch 38/100\n",
      "40/40 [==============================] - 4s 99ms/step - loss: 1.6452 - accuracy: 0.4039 - val_loss: 1.5714 - val_accuracy: 0.4418\n",
      "Epoch 39/100\n",
      "40/40 [==============================] - 3s 78ms/step - loss: 1.6459 - accuracy: 0.4037 - val_loss: 1.5651 - val_accuracy: 0.4440\n",
      "Epoch 40/100\n",
      "40/40 [==============================] - 3s 82ms/step - loss: 1.6501 - accuracy: 0.4015 - val_loss: 1.5515 - val_accuracy: 0.4458\n",
      "Epoch 41/100\n",
      "40/40 [==============================] - 4s 110ms/step - loss: 1.6376 - accuracy: 0.4080 - val_loss: 1.5654 - val_accuracy: 0.4420\n",
      "Epoch 42/100\n",
      "40/40 [==============================] - 3s 80ms/step - loss: 1.6429 - accuracy: 0.4071 - val_loss: 1.5712 - val_accuracy: 0.4370\n",
      "Epoch 43/100\n",
      "40/40 [==============================] - 3s 80ms/step - loss: 1.6374 - accuracy: 0.4097 - val_loss: 1.5551 - val_accuracy: 0.4429\n",
      "Epoch 44/100\n",
      "40/40 [==============================] - 3s 80ms/step - loss: 1.6333 - accuracy: 0.4077 - val_loss: 1.5605 - val_accuracy: 0.4478\n",
      "Epoch 45/100\n",
      "40/40 [==============================] - 4s 111ms/step - loss: 1.6301 - accuracy: 0.4109 - val_loss: 1.5455 - val_accuracy: 0.4526\n",
      "Epoch 46/100\n",
      "40/40 [==============================] - 3s 82ms/step - loss: 1.6331 - accuracy: 0.4094 - val_loss: 1.5709 - val_accuracy: 0.4393\n",
      "Epoch 47/100\n",
      "40/40 [==============================] - 3s 79ms/step - loss: 1.6304 - accuracy: 0.4069 - val_loss: 1.5573 - val_accuracy: 0.4465\n",
      "Epoch 48/100\n",
      "40/40 [==============================] - 4s 110ms/step - loss: 1.6314 - accuracy: 0.4099 - val_loss: 1.5610 - val_accuracy: 0.4450\n",
      "Epoch 49/100\n",
      "40/40 [==============================] - 3s 80ms/step - loss: 1.6240 - accuracy: 0.4135 - val_loss: 1.5658 - val_accuracy: 0.4445\n",
      "Epoch 50/100\n",
      "40/40 [==============================] - 3s 79ms/step - loss: 1.6217 - accuracy: 0.4115 - val_loss: 1.5568 - val_accuracy: 0.4420\n",
      "Epoch 51/100\n",
      "40/40 [==============================] - 3s 81ms/step - loss: 1.6288 - accuracy: 0.4113 - val_loss: 1.5588 - val_accuracy: 0.4454\n",
      "Epoch 52/100\n",
      "40/40 [==============================] - 4s 112ms/step - loss: 1.6230 - accuracy: 0.4131 - val_loss: 1.5479 - val_accuracy: 0.4453\n",
      "Epoch 53/100\n",
      "40/40 [==============================] - 3s 79ms/step - loss: 1.6276 - accuracy: 0.4117 - val_loss: 1.5476 - val_accuracy: 0.4521\n",
      "Epoch 54/100\n",
      "40/40 [==============================] - 3s 79ms/step - loss: 1.6180 - accuracy: 0.4156 - val_loss: 1.5668 - val_accuracy: 0.4393\n",
      "Epoch 55/100\n",
      "40/40 [==============================] - 4s 95ms/step - loss: 1.6123 - accuracy: 0.4169 - val_loss: 1.5374 - val_accuracy: 0.4559\n",
      "Epoch 56/100\n",
      "40/40 [==============================] - 4s 92ms/step - loss: 1.6118 - accuracy: 0.4175 - val_loss: 1.5493 - val_accuracy: 0.4466\n",
      "Epoch 57/100\n",
      "40/40 [==============================] - 3s 80ms/step - loss: 1.6112 - accuracy: 0.4157 - val_loss: 1.5299 - val_accuracy: 0.4561\n",
      "Epoch 58/100\n",
      "40/40 [==============================] - 3s 82ms/step - loss: 1.6078 - accuracy: 0.4168 - val_loss: 1.5493 - val_accuracy: 0.4525\n",
      "Epoch 59/100\n",
      "40/40 [==============================] - 4s 111ms/step - loss: 1.6068 - accuracy: 0.4198 - val_loss: 1.5364 - val_accuracy: 0.4537\n",
      "Epoch 60/100\n",
      "40/40 [==============================] - 3s 80ms/step - loss: 1.6103 - accuracy: 0.4177 - val_loss: 1.5370 - val_accuracy: 0.4549\n",
      "Epoch 61/100\n",
      "40/40 [==============================] - 3s 79ms/step - loss: 1.6062 - accuracy: 0.4184 - val_loss: 1.5297 - val_accuracy: 0.4569\n",
      "Epoch 62/100\n",
      "40/40 [==============================] - 3s 82ms/step - loss: 1.6039 - accuracy: 0.4188 - val_loss: 1.5310 - val_accuracy: 0.4540\n",
      "Epoch 63/100\n",
      "40/40 [==============================] - 4s 108ms/step - loss: 1.6055 - accuracy: 0.4187 - val_loss: 1.5463 - val_accuracy: 0.4460\n",
      "Epoch 64/100\n",
      "40/40 [==============================] - 3s 80ms/step - loss: 1.6013 - accuracy: 0.4169 - val_loss: 1.5254 - val_accuracy: 0.4555\n",
      "Epoch 65/100\n",
      "40/40 [==============================] - 3s 81ms/step - loss: 1.6054 - accuracy: 0.4193 - val_loss: 1.5446 - val_accuracy: 0.4500\n",
      "Epoch 66/100\n",
      "40/40 [==============================] - 4s 112ms/step - loss: 1.6018 - accuracy: 0.4224 - val_loss: 1.5280 - val_accuracy: 0.4544\n",
      "Epoch 67/100\n",
      "40/40 [==============================] - 3s 82ms/step - loss: 1.5951 - accuracy: 0.4269 - val_loss: 1.5420 - val_accuracy: 0.4564\n",
      "Epoch 68/100\n",
      "40/40 [==============================] - 3s 79ms/step - loss: 1.5985 - accuracy: 0.4243 - val_loss: 1.5393 - val_accuracy: 0.4555\n",
      "Epoch 69/100\n",
      "40/40 [==============================] - 3s 81ms/step - loss: 1.5920 - accuracy: 0.4223 - val_loss: 1.5177 - val_accuracy: 0.4600\n",
      "Epoch 70/100\n",
      "40/40 [==============================] - 5s 114ms/step - loss: 1.5945 - accuracy: 0.4214 - val_loss: 1.5382 - val_accuracy: 0.4469\n",
      "Epoch 71/100\n",
      "40/40 [==============================] - 3s 79ms/step - loss: 1.5974 - accuracy: 0.4229 - val_loss: 1.5457 - val_accuracy: 0.4527\n",
      "Epoch 72/100\n",
      "40/40 [==============================] - 3s 80ms/step - loss: 1.5923 - accuracy: 0.4237 - val_loss: 1.5388 - val_accuracy: 0.4485\n",
      "Epoch 73/100\n",
      "40/40 [==============================] - 4s 107ms/step - loss: 1.5993 - accuracy: 0.4216 - val_loss: 1.5259 - val_accuracy: 0.4540\n",
      "Epoch 74/100\n",
      "40/40 [==============================] - 3s 83ms/step - loss: 1.5939 - accuracy: 0.4240 - val_loss: 1.5445 - val_accuracy: 0.4534\n",
      "Epoch 75/100\n",
      "40/40 [==============================] - 3s 80ms/step - loss: 1.5892 - accuracy: 0.4234 - val_loss: 1.5127 - val_accuracy: 0.4627\n",
      "Epoch 76/100\n",
      "40/40 [==============================] - 3s 80ms/step - loss: 1.5859 - accuracy: 0.4279 - val_loss: 1.5217 - val_accuracy: 0.4596\n",
      "Epoch 77/100\n",
      "40/40 [==============================] - 4s 111ms/step - loss: 1.5867 - accuracy: 0.4248 - val_loss: 1.5194 - val_accuracy: 0.4574\n",
      "Epoch 78/100\n",
      "40/40 [==============================] - 3s 82ms/step - loss: 1.5961 - accuracy: 0.4247 - val_loss: 1.5187 - val_accuracy: 0.4615\n",
      "Epoch 79/100\n",
      "40/40 [==============================] - 3s 80ms/step - loss: 1.5866 - accuracy: 0.4271 - val_loss: 1.5334 - val_accuracy: 0.4575\n",
      "Epoch 80/100\n",
      "40/40 [==============================] - 4s 88ms/step - loss: 1.5847 - accuracy: 0.4277 - val_loss: 1.5270 - val_accuracy: 0.4543\n",
      "Epoch 81/100\n",
      "40/40 [==============================] - 4s 100ms/step - loss: 1.5914 - accuracy: 0.4243 - val_loss: 1.5269 - val_accuracy: 0.4621\n",
      "Epoch 82/100\n",
      "40/40 [==============================] - 3s 80ms/step - loss: 1.5875 - accuracy: 0.4256 - val_loss: 1.5351 - val_accuracy: 0.4539\n",
      "Epoch 83/100\n",
      "40/40 [==============================] - 3s 81ms/step - loss: 1.5847 - accuracy: 0.4300 - val_loss: 1.5313 - val_accuracy: 0.4602\n",
      "Epoch 84/100\n",
      "40/40 [==============================] - 4s 111ms/step - loss: 1.5868 - accuracy: 0.4268 - val_loss: 1.5133 - val_accuracy: 0.4600\n",
      "Epoch 85/100\n",
      "40/40 [==============================] - 3s 80ms/step - loss: 1.5809 - accuracy: 0.4305 - val_loss: 1.5444 - val_accuracy: 0.4533\n",
      "Epoch 86/100\n",
      "40/40 [==============================] - 3s 80ms/step - loss: 1.5854 - accuracy: 0.4280 - val_loss: 1.5263 - val_accuracy: 0.4607\n",
      "Epoch 87/100\n",
      "40/40 [==============================] - 3s 80ms/step - loss: 1.5784 - accuracy: 0.4321 - val_loss: 1.5159 - val_accuracy: 0.4548\n",
      "Epoch 88/100\n",
      "40/40 [==============================] - 4s 112ms/step - loss: 1.5783 - accuracy: 0.4323 - val_loss: 1.5274 - val_accuracy: 0.4517\n",
      "Epoch 89/100\n",
      "40/40 [==============================] - 3s 82ms/step - loss: 1.5799 - accuracy: 0.4299 - val_loss: 1.5181 - val_accuracy: 0.4604\n",
      "Epoch 90/100\n",
      "40/40 [==============================] - 3s 80ms/step - loss: 1.5857 - accuracy: 0.4280 - val_loss: 1.5568 - val_accuracy: 0.4492\n",
      "Epoch 91/100\n",
      "40/40 [==============================] - 4s 108ms/step - loss: 1.5796 - accuracy: 0.4281 - val_loss: 1.5145 - val_accuracy: 0.4615\n",
      "Epoch 92/100\n",
      "40/40 [==============================] - 5s 119ms/step - loss: 1.5804 - accuracy: 0.4304 - val_loss: 1.5076 - val_accuracy: 0.4669\n",
      "Epoch 93/100\n",
      "40/40 [==============================] - 3s 80ms/step - loss: 1.5804 - accuracy: 0.4303 - val_loss: 1.5382 - val_accuracy: 0.4571\n",
      "Epoch 94/100\n",
      "40/40 [==============================] - 4s 104ms/step - loss: 1.5839 - accuracy: 0.4284 - val_loss: 1.5182 - val_accuracy: 0.4648\n",
      "Epoch 95/100\n",
      "40/40 [==============================] - 4s 87ms/step - loss: 1.5810 - accuracy: 0.4272 - val_loss: 1.5225 - val_accuracy: 0.4581\n",
      "Epoch 96/100\n",
      "40/40 [==============================] - 3s 81ms/step - loss: 1.5755 - accuracy: 0.4338 - val_loss: 1.5234 - val_accuracy: 0.4551\n",
      "Epoch 97/100\n",
      "40/40 [==============================] - 3s 80ms/step - loss: 1.5735 - accuracy: 0.4307 - val_loss: 1.5231 - val_accuracy: 0.4542\n",
      "Epoch 98/100\n",
      "40/40 [==============================] - 4s 112ms/step - loss: 1.5717 - accuracy: 0.4321 - val_loss: 1.5336 - val_accuracy: 0.4549\n",
      "Epoch 99/100\n",
      "40/40 [==============================] - 3s 80ms/step - loss: 1.5777 - accuracy: 0.4303 - val_loss: 1.5253 - val_accuracy: 0.4609\n",
      "Epoch 100/100\n",
      "40/40 [==============================] - 3s 80ms/step - loss: 1.5757 - accuracy: 0.4322 - val_loss: 1.5350 - val_accuracy: 0.4584\n",
      "CPU times: user 9min 14s, sys: 12.1 s, total: 9min 26s\n",
      "Wall time: 5min 58s\n"
     ]
    },
    {
     "data": {
      "text/plain": [
       "<keras.callbacks.History at 0x7f549045ba00>"
      ]
     },
     "execution_count": 56,
     "metadata": {},
     "output_type": "execute_result"
    }
   ],
   "source": [
    "%%time\n",
    "nr_epochs = 100\n",
    "model_3.fit(x = x_train, y = y_train, batch_size = samples_per_batch, epochs = nr_epochs,\n",
    "            verbose = 1, validation_data = (x_val, y_val))"
   ]
  },
  {
   "cell_type": "markdown",
   "id": "bSNb3BsywkF4",
   "metadata": {
    "id": "bSNb3BsywkF4"
   },
   "source": [
    "# Predictions on Individual Images"
   ]
  },
  {
   "cell_type": "code",
   "execution_count": null,
   "id": "FQHmUUcWqLmT",
   "metadata": {
    "colab": {
     "base_uri": "https://localhost:8080/"
    },
    "id": "FQHmUUcWqLmT",
    "outputId": "b8ac030e-b01f-4bb5-8882-3f910c89fd72"
   },
   "outputs": [
    {
     "data": {
      "text/plain": [
       "(3072,)"
      ]
     },
     "execution_count": 58,
     "metadata": {},
     "output_type": "execute_result"
    }
   ],
   "source": [
    "x_val[0].shape"
   ]
  },
  {
   "cell_type": "code",
   "execution_count": null,
   "id": "k2M4BsITwjlW",
   "metadata": {
    "colab": {
     "base_uri": "https://localhost:8080/"
    },
    "id": "k2M4BsITwjlW",
    "outputId": "63f9eaa1-3d20-4d30-d83c-26fc07addfc4"
   },
   "outputs": [
    {
     "data": {
      "text/plain": [
       "(1, 3072)"
      ]
     },
     "execution_count": 60,
     "metadata": {},
     "output_type": "execute_result"
    }
   ],
   "source": [
    "test = np.expand_dims(x_val[0], axis = 0) #Hacemos archivo de dos dimensiones con la primera imagen de x_val\n",
    "test.shape"
   ]
  },
  {
   "cell_type": "code",
   "execution_count": null,
   "id": "ZRUAXY9dxkEa",
   "metadata": {
    "id": "ZRUAXY9dxkEa"
   },
   "outputs": [],
   "source": [
    "np.set_printoptions(precision = 3)"
   ]
  },
  {
   "cell_type": "code",
   "execution_count": null,
   "id": "15fH97F7xKYN",
   "metadata": {
    "colab": {
     "base_uri": "https://localhost:8080/"
    },
    "id": "15fH97F7xKYN",
    "outputId": "7959f6ed-39f8-42ab-a2de-5db43b3dd15d"
   },
   "outputs": [
    {
     "name": "stdout",
     "output_type": "stream",
     "text": [
      "1/1 [==============================] - 0s 23ms/step\n"
     ]
    },
    {
     "data": {
      "text/plain": [
       "array([[8.450e-03, 1.681e-03, 1.236e-01, 1.742e-01, 1.299e-01, 2.054e-01,\n",
       "        2.343e-01, 1.211e-01, 1.522e-04, 1.253e-03]], dtype=float32)"
      ]
     },
     "execution_count": 63,
     "metadata": {},
     "output_type": "execute_result"
    }
   ],
   "source": [
    "model_2.predict(test)"
   ]
  },
  {
   "cell_type": "code",
   "execution_count": null,
   "id": "OQVwUliYxZMv",
   "metadata": {
    "colab": {
     "base_uri": "https://localhost:8080/"
    },
    "id": "OQVwUliYxZMv",
    "outputId": "5f877e4e-6fbe-44ae-b8a3-0077cd40211a"
   },
   "outputs": [
    {
     "name": "stdout",
     "output_type": "stream",
     "text": [
      "313/313 [==============================] - 1s 4ms/step\n"
     ]
    },
    {
     "data": {
      "text/plain": [
       "array([[8.450e-03, 1.681e-03, 1.236e-01, ..., 1.211e-01, 1.522e-04,\n",
       "        1.253e-03],\n",
       "       [1.623e-02, 3.343e-01, 3.513e-03, ..., 5.072e-03, 4.163e-01,\n",
       "        1.760e-01],\n",
       "       [2.803e-02, 7.007e-02, 2.689e-03, ..., 1.732e-02, 1.462e-01,\n",
       "        7.178e-01],\n",
       "       ...,\n",
       "       [3.154e-02, 2.011e-01, 2.711e-03, ..., 5.665e-03, 1.932e-01,\n",
       "        5.535e-01],\n",
       "       [3.850e-03, 9.365e-01, 1.078e-02, ..., 9.695e-04, 1.633e-02,\n",
       "        2.057e-02],\n",
       "       [1.391e-03, 1.123e-04, 1.339e-01, ..., 4.146e-01, 1.005e-04,\n",
       "        3.733e-04]], dtype=float32)"
      ]
     },
     "execution_count": 64,
     "metadata": {},
     "output_type": "execute_result"
    }
   ],
   "source": [
    "model_2.predict(x_val)"
   ]
  },
  {
   "cell_type": "code",
   "execution_count": null,
   "id": "lvlJtWi_x4dc",
   "metadata": {
    "colab": {
     "base_uri": "https://localhost:8080/"
    },
    "id": "lvlJtWi_x4dc",
    "outputId": "44a8055d-70d9-450a-84a9-c9e154632679"
   },
   "outputs": [
    {
     "name": "stdout",
     "output_type": "stream",
     "text": [
      "313/313 [==============================] - 1s 2ms/step\n"
     ]
    },
    {
     "data": {
      "text/plain": [
       "(10000, 10)"
      ]
     },
     "execution_count": 65,
     "metadata": {},
     "output_type": "execute_result"
    }
   ],
   "source": [
    "model_2.predict(x_val).shape"
   ]
  },
  {
   "cell_type": "code",
   "execution_count": null,
   "id": "iF18IsUdx-C4",
   "metadata": {
    "colab": {
     "base_uri": "https://localhost:8080/"
    },
    "id": "iF18IsUdx-C4",
    "outputId": "16c916ca-2402-45ca-9d11-ff4a737d6723"
   },
   "outputs": [
    {
     "name": "stdout",
     "output_type": "stream",
     "text": [
      "1/1 [==============================] - 0s 22ms/step\n"
     ]
    },
    {
     "data": {
      "text/plain": [
       "array([6])"
      ]
     },
     "execution_count": 69,
     "metadata": {},
     "output_type": "execute_result"
    }
   ],
   "source": [
    "# model_2.predict_classes(test) was deprecated in TensorFlow 2.6\n",
    "#Pruebo entonces con esto\n",
    "\n",
    "preds = np.argmax(model_2.predict(test),axis = 1)\n",
    "preds #El modelo predice que la primera imagen de x_val es la categoria [6]"
   ]
  },
  {
   "cell_type": "code",
   "execution_count": null,
   "id": "ShLz65ZEyEVY",
   "metadata": {
    "colab": {
     "base_uri": "https://localhost:8080/"
    },
    "id": "ShLz65ZEyEVY",
    "outputId": "4c5da899-8094-4bfe-9e51-e58b319beb1c"
   },
   "outputs": [
    {
     "data": {
      "text/plain": [
       "array([6], dtype=uint8)"
      ]
     },
     "execution_count": 71,
     "metadata": {},
     "output_type": "execute_result"
    }
   ],
   "source": [
    "#Para revisar cual es la categoria real, observada en y_val, hacemos lo siguiente\n",
    "y_val[0]"
   ]
  },
  {
   "cell_type": "markdown",
   "id": "bRDmsPJe0Zbe",
   "metadata": {
    "id": "bRDmsPJe0Zbe"
   },
   "source": [
    "Writing a for loop where you print out the actual value and the predicted value for the first 10 images in the valuation dataset (x_val)"
   ]
  },
  {
   "cell_type": "code",
   "execution_count": null,
   "id": "9tGFjz3X21St",
   "metadata": {
    "colab": {
     "base_uri": "https://localhost:8080/"
    },
    "id": "9tGFjz3X21St",
    "outputId": "9bc53d20-f8df-455c-96aa-89e600daba40"
   },
   "outputs": [
    {
     "name": "stdout",
     "output_type": "stream",
     "text": [
      "1/1 [==============================] - 0s 51ms/step\n",
      "Actual value: 6 \n",
      "Predicted value: [6]\n",
      "1/1 [==============================] - 0s 22ms/step\n",
      "Actual value: 9 \n",
      "Predicted value: [8]\n",
      "1/1 [==============================] - 0s 21ms/step\n",
      "Actual value: 9 \n",
      "Predicted value: [9]\n",
      "1/1 [==============================] - 0s 27ms/step\n",
      "Actual value: 4 \n",
      "Predicted value: [4]\n",
      "1/1 [==============================] - 0s 29ms/step\n",
      "Actual value: 1 \n",
      "Predicted value: [0]\n",
      "1/1 [==============================] - 0s 26ms/step\n",
      "Actual value: 1 \n",
      "Predicted value: [9]\n",
      "1/1 [==============================] - 0s 50ms/step\n",
      "Actual value: 2 \n",
      "Predicted value: [2]\n",
      "1/1 [==============================] - 0s 34ms/step\n",
      "Actual value: 7 \n",
      "Predicted value: [7]\n",
      "1/1 [==============================] - 0s 43ms/step\n",
      "Actual value: 8 \n",
      "Predicted value: [0]\n",
      "1/1 [==============================] - 0s 25ms/step\n",
      "Actual value: 3 \n",
      "Predicted value: [9]\n"
     ]
    }
   ],
   "source": [
    "for number in range(10):\n",
    "  test_img = np.expand_dims(x_val[number], axis = 0)\n",
    "  predicted_val = np.argmax(model_2.predict(test_img),axis = 1)\n",
    "  print(f'Actual value: {y_val[number][0]} \\nPredicted value: {predicted_val}')\n"
   ]
  },
  {
   "cell_type": "markdown",
   "id": "f5KKWDReQUK7",
   "metadata": {
    "id": "f5KKWDReQUK7"
   },
   "source": [
    "# Evaluation"
   ]
  },
  {
   "cell_type": "code",
   "execution_count": null,
   "id": "C7_ReskwRVay",
   "metadata": {
    "colab": {
     "base_uri": "https://localhost:8080/"
    },
    "id": "C7_ReskwRVay",
    "outputId": "706b857f-1a12-4f31-8109-82ca3365bf69"
   },
   "outputs": [
    {
     "data": {
      "text/plain": [
       "['loss', 'accuracy']"
      ]
     },
     "execution_count": 96,
     "metadata": {},
     "output_type": "execute_result"
    }
   ],
   "source": [
    "model_2.metrics_names"
   ]
  },
  {
   "cell_type": "code",
   "execution_count": null,
   "id": "4uHPF0TXQToS",
   "metadata": {
    "colab": {
     "base_uri": "https://localhost:8080/"
    },
    "id": "4uHPF0TXQToS",
    "outputId": "6f9124ca-fde4-49be-c1da-2499e5355744"
   },
   "outputs": [
    {
     "name": "stdout",
     "output_type": "stream",
     "text": [
      "313/313 [==============================] - 1s 2ms/step - loss: 1.4628 - accuracy: 0.4764\n",
      "Test loss is  1.46 and test accuracy is  47.6%\n"
     ]
    }
   ],
   "source": [
    "test_loss, test_accuracy = model_2.evaluate(x_test, y_test)\n",
    "print(f'Test loss is {test_loss: 0.3} and test accuracy is {test_accuracy: 0.1%}')"
   ]
  },
  {
   "cell_type": "markdown",
   "id": "Y7tUVIjrS7D8",
   "metadata": {
    "id": "Y7tUVIjrS7D8"
   },
   "source": [
    "## Confusion Matrix"
   ]
  },
  {
   "cell_type": "code",
   "execution_count": null,
   "id": "dE_BTpR3QTio",
   "metadata": {
    "colab": {
     "base_uri": "https://localhost:8080/"
    },
    "id": "dE_BTpR3QTio",
    "outputId": "e2621b58-b792-4386-f3c1-768eea9be0e0"
   },
   "outputs": [
    {
     "name": "stdout",
     "output_type": "stream",
     "text": [
      "313/313 [==============================] - 1s 3ms/step\n"
     ]
    }
   ],
   "source": [
    "predictions = np.argmax(model_2.predict(x_test),axis = 1)\n",
    "conf_matrix = confusion_matrix(y_true = y_test, y_pred = predictions)"
   ]
  },
  {
   "cell_type": "code",
   "execution_count": null,
   "id": "nt9la57dQTeM",
   "metadata": {
    "colab": {
     "base_uri": "https://localhost:8080/"
    },
    "id": "nt9la57dQTeM",
    "outputId": "520d0375-b7bb-45c8-fd30-893fbd2921cd"
   },
   "outputs": [
    {
     "data": {
      "text/plain": [
       "(10, 10)"
      ]
     },
     "execution_count": 105,
     "metadata": {},
     "output_type": "execute_result"
    }
   ],
   "source": [
    "conf_matrix.shape"
   ]
  },
  {
   "cell_type": "code",
   "execution_count": null,
   "id": "XAAVCMCez-RZ",
   "metadata": {
    "id": "XAAVCMCez-RZ"
   },
   "outputs": [],
   "source": [
    "nr_rows = conf_matrix.shape[0]\n",
    "nr_cols = conf_matrix.shape[1]"
   ]
  },
  {
   "cell_type": "code",
   "execution_count": null,
   "id": "YXDz2QWTT0NG",
   "metadata": {
    "colab": {
     "base_uri": "https://localhost:8080/"
    },
    "id": "YXDz2QWTT0NG",
    "outputId": "a74451f3-434d-414a-878f-859084d5d3f6"
   },
   "outputs": [
    {
     "data": {
      "text/plain": [
       "694"
      ]
     },
     "execution_count": 107,
     "metadata": {},
     "output_type": "execute_result"
    }
   ],
   "source": [
    "conf_matrix.max()"
   ]
  },
  {
   "cell_type": "code",
   "execution_count": null,
   "id": "g9O6yCE7T2Kt",
   "metadata": {
    "colab": {
     "base_uri": "https://localhost:8080/"
    },
    "id": "g9O6yCE7T2Kt",
    "outputId": "4e3c2929-9fce-4f3b-c6e8-f4fd4765e8b6"
   },
   "outputs": [
    {
     "data": {
      "text/plain": [
       "3"
      ]
     },
     "execution_count": 108,
     "metadata": {},
     "output_type": "execute_result"
    }
   ],
   "source": [
    "conf_matrix.min()"
   ]
  },
  {
   "cell_type": "code",
   "execution_count": null,
   "id": "rSVTVxzLT4LF",
   "metadata": {
    "colab": {
     "base_uri": "https://localhost:8080/",
     "height": 565
    },
    "id": "rSVTVxzLT4LF",
    "outputId": "580279a8-3ef5-40b3-a43f-8f8e49c80102"
   },
   "outputs": [
    {
     "data": {
      "image/png": "[encoded data removed]",
      "text/plain": [
       "<Figure size 700x700 with 2 Axes>"
      ]
     },
     "metadata": {
      "needs_background": "light"
     },
     "output_type": "display_data"
    }
   ],
   "source": [
    "plt.figure(figsize = (7,7), dpi = 100)\n",
    "plt.imshow(conf_matrix, cmap = plt.cm.Greens)\n",
    "\n",
    "plt.title('Confusion Matrix', fontsize = 15)\n",
    "plt.ylabel('Actual labels')\n",
    "plt.xlabel('Predicted labels')\n",
    "\n",
    "tick_marks = np.arange(10)\n",
    "plt.yticks(tick_marks, LABEL_NAMES)\n",
    "plt.xticks(tick_marks, LABEL_NAMES)\n",
    "\n",
    "plt.colorbar()\n",
    "\n",
    "#Nested loop para colocar los numeros en cada cuadrado de la confusion matrix\n",
    "for i, j in itertools.product(range(nr_rows), range(nr_cols)):\n",
    "  plt.text(j, i, conf_matrix[i, j], horizontalalignment = 'center',\n",
    "           color = 'white' if conf_matrix[i,j] > 450 else 'black')\n",
    "\n",
    "plt.show()"
   ]
  },
  {
   "cell_type": "markdown",
   "id": "2oD_zpbN0LyA",
   "metadata": {
    "id": "2oD_zpbN0LyA"
   },
   "source": [
    "\n",
    "#### Values on the diagonal are True positives. For example, my model predicted correctly that 560 plane images were in fact a plane. Values outside the diagonal indicate the amount of times the model predicted something that was actually other thing. In the 1st column/2nd row, the model predicted 52 times that an image was a plane, when it actually was a car. All values on that  column outside the diagonal are False positives. False negatives are the values on each row that don't belong to the diagonal."
   ]
  },
  {
   "cell_type": "code",
   "execution_count": null,
   "id": "wsWRzHE-0IZo",
   "metadata": {
    "colab": {
     "base_uri": "https://localhost:8080/"
    },
    "id": "wsWRzHE-0IZo",
    "outputId": "15cf568a-252f-43e7-8fe5-99d490c51834"
   },
   "outputs": [
    {
     "data": {
      "text/plain": [
       "array([560, 598, 318, 245, 553, 329, 580, 467, 694, 420])"
      ]
     },
     "execution_count": 128,
     "metadata": {},
     "output_type": "execute_result"
    }
   ],
   "source": [
    "### True positives\n",
    "\n",
    "np.diag(conf_matrix) #Para obtener los valores de la diagonal"
   ]
  },
  {
   "cell_type": "code",
   "execution_count": null,
   "id": "623ynbJ11tQU",
   "metadata": {
    "colab": {
     "base_uri": "https://localhost:8080/"
    },
    "id": "623ynbJ11tQU",
    "outputId": "ae86a2df-5757-4d9d-df9a-b6e5df25c13f"
   },
   "outputs": [
    {
     "data": {
      "text/plain": [
       "array([0.56 , 0.598, 0.318, 0.245, 0.553, 0.329, 0.58 , 0.467, 0.694,\n",
       "       0.42 ])"
      ]
     },
     "execution_count": 130,
     "metadata": {},
     "output_type": "execute_result"
    }
   ],
   "source": [
    "recall = np.diag(conf_matrix) / np.sum(conf_matrix, axis = 1)\n",
    "recall"
   ]
  },
  {
   "cell_type": "code",
   "execution_count": null,
   "id": "fVFs1gzm2Ya7",
   "metadata": {
    "colab": {
     "base_uri": "https://localhost:8080/"
    },
    "id": "fVFs1gzm2Ya7",
    "outputId": "0b544917-65e0-4a36-e524-9f786ea46cb7"
   },
   "outputs": [
    {
     "data": {
      "text/plain": [
       "array([0.527, 0.601, 0.346, 0.336, 0.375, 0.414, 0.504, 0.597, 0.495,\n",
       "       0.611])"
      ]
     },
     "execution_count": 131,
     "metadata": {},
     "output_type": "execute_result"
    }
   ],
   "source": [
    "precision = np.diag(conf_matrix) / np.sum(conf_matrix, axis = 0)\n",
    "precision"
   ]
  },
  {
   "cell_type": "code",
   "execution_count": null,
   "id": "DAmXZ-nr2noi",
   "metadata": {
    "colab": {
     "base_uri": "https://localhost:8080/"
    },
    "id": "DAmXZ-nr2noi",
    "outputId": "f7b76baa-dc41-412f-e328-161e6a2dc89e"
   },
   "outputs": [
    {
     "name": "stdout",
     "output_type": "stream",
     "text": [
      "Model 2 recall score is  47.64%\n"
     ]
    }
   ],
   "source": [
    "avg_recall = np.mean(recall)\n",
    "print(f'Model 2 recall score is {avg_recall: .2%}')"
   ]
  },
  {
   "cell_type": "code",
   "execution_count": null,
   "id": "n8tQU3Z42wQO",
   "metadata": {
    "colab": {
     "base_uri": "https://localhost:8080/"
    },
    "id": "n8tQU3Z42wQO",
    "outputId": "ef8ee0bb-f46c-4f37-b18f-4af76c323e85"
   },
   "outputs": [
    {
     "name": "stdout",
     "output_type": "stream",
     "text": [
      "Model 2 precision score is  48.05%\n"
     ]
    }
   ],
   "source": [
    "avg_precision = np.mean(precision)\n",
    "print(f'Model 2 precision score is {avg_precision: .2%}')"
   ]
  },
  {
   "cell_type": "code",
   "execution_count": null,
   "id": "avknl3Mx3IEG",
   "metadata": {
    "colab": {
     "base_uri": "https://localhost:8080/"
    },
    "id": "avknl3Mx3IEG",
    "outputId": "369fa0b2-d221-40e7-e300-e5ddd7c6c061"
   },
   "outputs": [
    {
     "name": "stdout",
     "output_type": "stream",
     "text": [
      "Model 2 F score is  47.85%\n"
     ]
    }
   ],
   "source": [
    "f_score = ((avg_precision * avg_recall) / (avg_precision + avg_recall)) * 2\n",
    "print(f'Model 2 F score is {f_score: .2%}')"
   ]
  },
  {
   "cell_type": "code",
   "execution_count": null,
   "id": "-jfwWwUz3cZy",
   "metadata": {
    "id": "-jfwWwUz3cZy"
   },
   "outputs": [],
   "source": []
  }
 ],
 "metadata": {
  "colab": {
   "provenance": []
  },
  "kernelspec": {
   "display_name": "Python (tf_env)",
   "language": "python",
   "name": "tf_env"
  },
  "language_info": {
   "codemirror_mode": {
    "name": "ipython",
    "version": 3
   },
   "file_extension": ".py",
   "mimetype": "text/x-python",
   "name": "python",
   "nbconvert_exporter": "python",
   "pygments_lexer": "ipython3",
   "version": "3.10.9"
  }
 },
 "nbformat": 4,
 "nbformat_minor": 5
}
